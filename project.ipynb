{
  "cells": [
    {
      "cell_type": "markdown",
      "metadata": {
        "id": "9o_QiNr53oyf"
      },
      "source": [
        "# [0] Fundaments of Machine Learning Final Project"
      ]
    },
    {
      "cell_type": "code",
      "execution_count": 2,
      "metadata": {
        "colab": {
          "base_uri": "https://localhost:8080/"
        },
        "id": "VwIbN85x3vCX",
        "outputId": "e50c9c1f-cc8a-48f4-94fc-f51875581ba7"
      },
      "outputs": [
        {
          "output_type": "stream",
          "name": "stdout",
          "text": [
            "86\n"
          ]
        }
      ],
      "source": [
        "import numpy as np\n",
        "import random\n",
        "random.seed(19830732)\n",
        "my_seed = int(np.round(random.random()*100))\n",
        "print(my_seed)"
      ]
    },
    {
      "cell_type": "markdown",
      "metadata": {
        "id": "XMgYV5wvYUfj"
      },
      "source": [
        "# [1] Import Packages"
      ]
    },
    {
      "cell_type": "code",
      "execution_count": 3,
      "metadata": {
        "colab": {
          "base_uri": "https://localhost:8080/"
        },
        "id": "rHMEsxrCFja4",
        "outputId": "5038435f-9852-4765-e887-502823b4e64d"
      },
      "outputs": [
        {
          "output_type": "stream",
          "name": "stdout",
          "text": [
            "Looking in indexes: https://pypi.org/simple, https://us-python.pkg.dev/colab-wheels/public/simple/\n",
            "Collecting surprise\n",
            "  Downloading surprise-0.1-py2.py3-none-any.whl (1.8 kB)\n",
            "Collecting scikit-surprise (from surprise)\n",
            "  Downloading scikit-surprise-1.1.3.tar.gz (771 kB)\n",
            "\u001b[2K     \u001b[90m━━━━━━━━━━━━━━━━━━━━━━━━━━━━━━━━━━━━━━\u001b[0m \u001b[32m772.0/772.0 kB\u001b[0m \u001b[31m29.0 MB/s\u001b[0m eta \u001b[36m0:00:00\u001b[0m\n",
            "\u001b[?25h  Preparing metadata (setup.py) ... \u001b[?25l\u001b[?25hdone\n",
            "Requirement already satisfied: joblib>=1.0.0 in /usr/local/lib/python3.10/dist-packages (from scikit-surprise->surprise) (1.2.0)\n",
            "Requirement already satisfied: numpy>=1.17.3 in /usr/local/lib/python3.10/dist-packages (from scikit-surprise->surprise) (1.22.4)\n",
            "Requirement already satisfied: scipy>=1.3.2 in /usr/local/lib/python3.10/dist-packages (from scikit-surprise->surprise) (1.10.1)\n",
            "Building wheels for collected packages: scikit-surprise\n",
            "  Building wheel for scikit-surprise (setup.py) ... \u001b[?25l\u001b[?25hdone\n",
            "  Created wheel for scikit-surprise: filename=scikit_surprise-1.1.3-cp310-cp310-linux_x86_64.whl size=3095423 sha256=8198555e30555c7335fce8603e175557387e69c2fefc61c04723867a757cff47\n",
            "  Stored in directory: /root/.cache/pip/wheels/a5/ca/a8/4e28def53797fdc4363ca4af740db15a9c2f1595ebc51fb445\n",
            "Successfully built scikit-surprise\n",
            "Installing collected packages: scikit-surprise, surprise\n",
            "Successfully installed scikit-surprise-1.1.3 surprise-0.1\n"
          ]
        }
      ],
      "source": [
        "pip install surprise"
      ]
    },
    {
      "cell_type": "code",
      "execution_count": 4,
      "metadata": {
        "colab": {
          "base_uri": "https://localhost:8080/"
        },
        "id": "wOEveyf4B5xT",
        "outputId": "6e8cf3aa-5f5e-471f-82e7-1a3b0042fc5e"
      },
      "outputs": [
        {
          "output_type": "stream",
          "name": "stdout",
          "text": [
            "Looking in indexes: https://pypi.org/simple, https://us-python.pkg.dev/colab-wheels/public/simple/\n",
            "Collecting mf\n",
            "  Downloading mf-0.1.38.tar.gz (18 kB)\n",
            "  Preparing metadata (setup.py) ... \u001b[?25l\u001b[?25hdone\n",
            "Collecting pymongo (from mf)\n",
            "  Downloading pymongo-4.3.3-cp310-cp310-manylinux_2_17_x86_64.manylinux2014_x86_64.whl (492 kB)\n",
            "\u001b[2K     \u001b[90m━━━━━━━━━━━━━━━━━━━━━━━━━━━━━━━━━━━━━━\u001b[0m \u001b[32m492.9/492.9 kB\u001b[0m \u001b[31m25.8 MB/s\u001b[0m eta \u001b[36m0:00:00\u001b[0m\n",
            "\u001b[?25hCollecting pyramid (from mf)\n",
            "  Downloading pyramid-2.0.1-py3-none-any.whl (246 kB)\n",
            "\u001b[2K     \u001b[90m━━━━━━━━━━━━━━━━━━━━━━━━━━━━━━━━━━━━━━\u001b[0m \u001b[32m247.0/247.0 kB\u001b[0m \u001b[31m33.0 MB/s\u001b[0m eta \u001b[36m0:00:00\u001b[0m\n",
            "\u001b[?25hCollecting pyramid_debugtoolbar (from mf)\n",
            "  Downloading pyramid_debugtoolbar-4.10-py3-none-any.whl (349 kB)\n",
            "\u001b[2K     \u001b[90m━━━━━━━━━━━━━━━━━━━━━━━━━━━━━━━━━━━━━━\u001b[0m \u001b[32m349.5/349.5 kB\u001b[0m \u001b[31m43.7 MB/s\u001b[0m eta \u001b[36m0:00:00\u001b[0m\n",
            "\u001b[?25hCollecting mongokit>=0.8.2 (from mf)\n",
            "  Downloading mongokit-0.9.1.1.tar.gz (69 kB)\n",
            "\u001b[2K     \u001b[90m━━━━━━━━━━━━━━━━━━━━━━━━━━━━━━━━━━━━━━━━\u001b[0m \u001b[32m69.9/69.9 kB\u001b[0m \u001b[31m10.6 MB/s\u001b[0m eta \u001b[36m0:00:00\u001b[0m\n",
            "\u001b[?25h  Preparing metadata (setup.py) ... \u001b[?25l\u001b[?25hdone\n",
            "Collecting dnspython<3.0.0,>=1.16.0 (from pymongo->mf)\n",
            "  Downloading dnspython-2.3.0-py3-none-any.whl (283 kB)\n",
            "\u001b[2K     \u001b[90m━━━━━━━━━━━━━━━━━━━━━━━━━━━━━━━━━━━━━━\u001b[0m \u001b[32m283.7/283.7 kB\u001b[0m \u001b[31m34.6 MB/s\u001b[0m eta \u001b[36m0:00:00\u001b[0m\n",
            "\u001b[?25hCollecting hupper>=1.5 (from pyramid->mf)\n",
            "  Downloading hupper-1.12-py3-none-any.whl (22 kB)\n",
            "Collecting plaster (from pyramid->mf)\n",
            "  Downloading plaster-1.1.2-py2.py3-none-any.whl (11 kB)\n",
            "Collecting plaster-pastedeploy (from pyramid->mf)\n",
            "  Downloading plaster_pastedeploy-1.0.1-py2.py3-none-any.whl (7.8 kB)\n",
            "Requirement already satisfied: setuptools in /usr/local/lib/python3.10/dist-packages (from pyramid->mf) (67.7.2)\n",
            "Collecting translationstring>=0.4 (from pyramid->mf)\n",
            "  Downloading translationstring-1.4-py2.py3-none-any.whl (15 kB)\n",
            "Collecting venusian>=1.0 (from pyramid->mf)\n",
            "  Downloading venusian-3.0.0-py3-none-any.whl (13 kB)\n",
            "Collecting webob>=1.8.3 (from pyramid->mf)\n",
            "  Downloading WebOb-1.8.7-py2.py3-none-any.whl (114 kB)\n",
            "\u001b[2K     \u001b[90m━━━━━━━━━━━━━━━━━━━━━━━━━━━━━━━━━━━━━━\u001b[0m \u001b[32m115.0/115.0 kB\u001b[0m \u001b[31m17.8 MB/s\u001b[0m eta \u001b[36m0:00:00\u001b[0m\n",
            "\u001b[?25hCollecting zope.deprecation>=3.5.0 (from pyramid->mf)\n",
            "  Downloading zope.deprecation-5.0-py3-none-any.whl (10 kB)\n",
            "Collecting zope.interface>=3.8.0 (from pyramid->mf)\n",
            "  Downloading zope.interface-6.0-cp310-cp310-manylinux_2_5_x86_64.manylinux1_x86_64.manylinux_2_17_x86_64.manylinux2014_x86_64.whl (246 kB)\n",
            "\u001b[2K     \u001b[90m━━━━━━━━━━━━━━━━━━━━━━━━━━━━━━━━━━━━━━\u001b[0m \u001b[32m247.0/247.0 kB\u001b[0m \u001b[31m31.2 MB/s\u001b[0m eta \u001b[36m0:00:00\u001b[0m\n",
            "\u001b[?25hCollecting pyramid-mako>=0.3.1 (from pyramid_debugtoolbar->mf)\n",
            "  Downloading pyramid_mako-1.1.0-py2.py3-none-any.whl (14 kB)\n",
            "Requirement already satisfied: Pygments in /usr/local/lib/python3.10/dist-packages (from pyramid_debugtoolbar->mf) (2.14.0)\n",
            "Collecting Mako>=1.1.0 (from pyramid-mako>=0.3.1->pyramid_debugtoolbar->mf)\n",
            "  Downloading Mako-1.2.4-py3-none-any.whl (78 kB)\n",
            "\u001b[2K     \u001b[90m━━━━━━━━━━━━━━━━━━━━━━━━━━━━━━━━━━━━━━━━\u001b[0m \u001b[32m78.7/78.7 kB\u001b[0m \u001b[31m12.0 MB/s\u001b[0m eta \u001b[36m0:00:00\u001b[0m\n",
            "\u001b[?25hCollecting PasteDeploy>=2.0 (from plaster-pastedeploy->pyramid->mf)\n",
            "  Downloading PasteDeploy-3.0.1-py3-none-any.whl (16 kB)\n",
            "Requirement already satisfied: MarkupSafe>=0.9.2 in /usr/local/lib/python3.10/dist-packages (from Mako>=1.1.0->pyramid-mako>=0.3.1->pyramid_debugtoolbar->mf) (2.1.2)\n",
            "Building wheels for collected packages: mf, mongokit\n",
            "  Building wheel for mf (setup.py) ... \u001b[?25l\u001b[?25hdone\n",
            "  Created wheel for mf: filename=mf-0.1.38-py3-none-any.whl size=15347 sha256=0a952b4d759a4af24d7424d949c7559fd7058f3800c69574d3a94781df0a8318\n",
            "  Stored in directory: /root/.cache/pip/wheels/26/6c/bf/fc43f0a5dbf83edf142c1da171a8a5b9a84f3a76aa7689d9e7\n",
            "  Building wheel for mongokit (setup.py) ... \u001b[?25l\u001b[?25hdone\n",
            "  Created wheel for mongokit: filename=mongokit-0.9.1.1-py3-none-any.whl size=48754 sha256=23d028c493dc32b0e005b1320fbe540e1a425c9db45f49889a01ff47897ebf1c\n",
            "  Stored in directory: /root/.cache/pip/wheels/0b/cf/71/507fe18b5f8bff9a1c96da02a57d076976bb5a7ae57f0d2ea4\n",
            "Successfully built mf mongokit\n",
            "Installing collected packages: translationstring, zope.interface, zope.deprecation, webob, venusian, plaster, PasteDeploy, Mako, hupper, dnspython, pymongo, plaster-pastedeploy, pyramid, mongokit, pyramid-mako, pyramid_debugtoolbar, mf\n",
            "Successfully installed Mako-1.2.4 PasteDeploy-3.0.1 dnspython-2.3.0 hupper-1.12 mf-0.1.38 mongokit-0.9.1.1 plaster-1.1.2 plaster-pastedeploy-1.0.1 pymongo-4.3.3 pyramid-2.0.1 pyramid-mako-1.1.0 pyramid_debugtoolbar-4.10 translationstring-1.4 venusian-3.0.0 webob-1.8.7 zope.deprecation-5.0 zope.interface-6.0\n"
          ]
        }
      ],
      "source": [
        "pip install mf"
      ]
    },
    {
      "cell_type": "code",
      "execution_count": 5,
      "metadata": {
        "id": "V54XxNgKE9HP"
      },
      "outputs": [],
      "source": [
        "import pandas as pd\n",
        "import numpy as np\n",
        "import math\n",
        "import re\n",
        "import sklearn\n",
        "import scipy\n",
        "import scipy.stats\n",
        "import scipy.io\n",
        "import scipy.sparse as sp\n",
        "from scipy.sparse import csr_matrix\n",
        "import matplotlib.pyplot as plt\n",
        "import seaborn as sns\n",
        "from surprise import Reader, Dataset, SVD\n",
        "from cvxpy import *\n",
        "from numpy import matrix\n",
        "import re\n",
        "import mf\n",
        "from scipy.sparse import csr_matrix"
      ]
    },
    {
      "cell_type": "markdown",
      "metadata": {
        "id": "AeSkX5Q0Y7A_"
      },
      "source": [
        "# [2] Data Preparation"
      ]
    },
    {
      "cell_type": "markdown",
      "metadata": {
        "id": "RpToJlkaZiP-"
      },
      "source": [
        "## Parse Data\n"
      ]
    },
    {
      "cell_type": "markdown",
      "metadata": {
        "id": "5BhpyGLRi1LA"
      },
      "source": [
        "### data.txt"
      ]
    },
    {
      "cell_type": "code",
      "execution_count": 6,
      "metadata": {
        "colab": {
          "base_uri": "https://localhost:8080/"
        },
        "id": "dqF55RORVxXQ",
        "outputId": "f419a171-95bb-4bc3-e7eb-b6a333ddb5d4"
      },
      "outputs": [
        {
          "output_type": "stream",
          "name": "stdout",
          "text": [
            "Dataset shape: (27010225, 4)\n",
            "Dataset examples:\n",
            "          movie_id  user_id  rating        date\n",
            "0                1  1488844     3.0  20050906.0\n",
            "100              1  1155747     3.0  20050703.0\n",
            "200              1  1141189     4.0  20041215.0\n",
            "300              1  2256485     1.0  20040819.0\n",
            "400              1  2322840     3.0  20050712.0\n",
            "...            ...      ...     ...         ...\n",
            "27009800      5000   608234     3.0  20041108.0\n",
            "27009900      5000  1294431     5.0  20030730.0\n",
            "27010000      5000   752642     1.0  20010217.0\n",
            "27010100      5000  1932594     3.0  20040502.0\n",
            "27010200      5000   352620     2.0  20040729.0\n",
            "\n",
            "[270103 rows x 4 columns]\n"
          ]
        }
      ],
      "source": [
        "import pandas as pd\n",
        "\n",
        "def parse_data(file_path):\n",
        "    data = []\n",
        "    current_movie_id = None\n",
        "    with open(file_path, 'r') as f:\n",
        "        for line in f:\n",
        "            line = line.strip()\n",
        "            if line.endswith(':'):\n",
        "                current_movie_id = int(line[:-1])\n",
        "            else:\n",
        "                try:\n",
        "                    user_id, rating, date = line.split(',')\n",
        "                    user_id, rating = int(user_id), int(rating)\n",
        "                    data.append([current_movie_id, user_id, rating, date])\n",
        "                except ValueError:\n",
        "                    print(f\"Line could not be parsed: {line}\")\n",
        "    return pd.DataFrame(data, columns=['movie_id', 'user_id', 'rating', 'date'])\n",
        "\n",
        "file_path = \"data.txt\"\n",
        "df = parse_data(file_path)\n",
        "\n",
        "# Convert data types and preprocess date column\n",
        "df['rating'] = df['rating'].astype(float)\n",
        "\n",
        "df['date'] = df['date'].astype(str)\n",
        "df['date'] = df['date'].map( lambda s : (s[:4])+(s[5:7])+(s[8:]))\n",
        "df['date'] = df['date'].astype(float)\n",
        "\n",
        "# Print dataset information and examples\n",
        "print(f'Dataset shape: {df.shape}')\n",
        "print(f'Dataset examples:\\n{df.iloc[::100, :]}')\n"
      ]
    },
    {
      "cell_type": "code",
      "execution_count": 7,
      "metadata": {
        "colab": {
          "base_uri": "https://localhost:8080/"
        },
        "id": "X8b2cCzmgzVf",
        "outputId": "cbf3dbe3-d925-4b0f-d2cf-73fc1a4e50ac"
      },
      "outputs": [
        {
          "output_type": "stream",
          "name": "stdout",
          "text": [
            "Final Datatypes of the Dataset\n",
            "movie_id      int64\n",
            "user_id       int64\n",
            "rating      float64\n",
            "date        float64\n",
            "dtype: object\n"
          ]
        }
      ],
      "source": [
        "print(\"Final Datatypes of the Dataset\")\n",
        "print(df.dtypes)"
      ]
    },
    {
      "cell_type": "markdown",
      "metadata": {
        "id": "jumIDLvmi4e6"
      },
      "source": [
        "### movie_titles.csv"
      ]
    },
    {
      "cell_type": "code",
      "execution_count": 8,
      "metadata": {
        "colab": {
          "base_uri": "https://localhost:8080/",
          "height": 0
        },
        "id": "2WPRwMRgi8wD",
        "outputId": "e9e82693-3408-4498-e2fa-49a44e59541f"
      },
      "outputs": [
        {
          "output_type": "execute_result",
          "data": {
            "text/plain": [
              "   release_date                         title  movie_id\n",
              "1        2003.0               Dinosaur Planet         1\n",
              "2        2004.0    Isle of Man TT 2004 Review         2\n",
              "3        1997.0                     Character         3\n",
              "4        1994.0  Paula Abdul's Get Up & Dance         4\n",
              "5        2004.0      The Rise and Fall of ECW         5"
            ],
            "text/html": [
              "\n",
              "  <div id=\"df-f606b14c-5dd6-4322-8954-e56d0cc6dfdb\">\n",
              "    <div class=\"colab-df-container\">\n",
              "      <div>\n",
              "<style scoped>\n",
              "    .dataframe tbody tr th:only-of-type {\n",
              "        vertical-align: middle;\n",
              "    }\n",
              "\n",
              "    .dataframe tbody tr th {\n",
              "        vertical-align: top;\n",
              "    }\n",
              "\n",
              "    .dataframe thead th {\n",
              "        text-align: right;\n",
              "    }\n",
              "</style>\n",
              "<table border=\"1\" class=\"dataframe\">\n",
              "  <thead>\n",
              "    <tr style=\"text-align: right;\">\n",
              "      <th></th>\n",
              "      <th>release_date</th>\n",
              "      <th>title</th>\n",
              "      <th>movie_id</th>\n",
              "    </tr>\n",
              "  </thead>\n",
              "  <tbody>\n",
              "    <tr>\n",
              "      <th>1</th>\n",
              "      <td>2003.0</td>\n",
              "      <td>Dinosaur Planet</td>\n",
              "      <td>1</td>\n",
              "    </tr>\n",
              "    <tr>\n",
              "      <th>2</th>\n",
              "      <td>2004.0</td>\n",
              "      <td>Isle of Man TT 2004 Review</td>\n",
              "      <td>2</td>\n",
              "    </tr>\n",
              "    <tr>\n",
              "      <th>3</th>\n",
              "      <td>1997.0</td>\n",
              "      <td>Character</td>\n",
              "      <td>3</td>\n",
              "    </tr>\n",
              "    <tr>\n",
              "      <th>4</th>\n",
              "      <td>1994.0</td>\n",
              "      <td>Paula Abdul's Get Up &amp; Dance</td>\n",
              "      <td>4</td>\n",
              "    </tr>\n",
              "    <tr>\n",
              "      <th>5</th>\n",
              "      <td>2004.0</td>\n",
              "      <td>The Rise and Fall of ECW</td>\n",
              "      <td>5</td>\n",
              "    </tr>\n",
              "  </tbody>\n",
              "</table>\n",
              "</div>\n",
              "      <button class=\"colab-df-convert\" onclick=\"convertToInteractive('df-f606b14c-5dd6-4322-8954-e56d0cc6dfdb')\"\n",
              "              title=\"Convert this dataframe to an interactive table.\"\n",
              "              style=\"display:none;\">\n",
              "        \n",
              "  <svg xmlns=\"http://www.w3.org/2000/svg\" height=\"24px\"viewBox=\"0 0 24 24\"\n",
              "       width=\"24px\">\n",
              "    <path d=\"M0 0h24v24H0V0z\" fill=\"none\"/>\n",
              "    <path d=\"M18.56 5.44l.94 2.06.94-2.06 2.06-.94-2.06-.94-.94-2.06-.94 2.06-2.06.94zm-11 1L8.5 8.5l.94-2.06 2.06-.94-2.06-.94L8.5 2.5l-.94 2.06-2.06.94zm10 10l.94 2.06.94-2.06 2.06-.94-2.06-.94-.94-2.06-.94 2.06-2.06.94z\"/><path d=\"M17.41 7.96l-1.37-1.37c-.4-.4-.92-.59-1.43-.59-.52 0-1.04.2-1.43.59L10.3 9.45l-7.72 7.72c-.78.78-.78 2.05 0 2.83L4 21.41c.39.39.9.59 1.41.59.51 0 1.02-.2 1.41-.59l7.78-7.78 2.81-2.81c.8-.78.8-2.07 0-2.86zM5.41 20L4 18.59l7.72-7.72 1.47 1.35L5.41 20z\"/>\n",
              "  </svg>\n",
              "      </button>\n",
              "      \n",
              "  <style>\n",
              "    .colab-df-container {\n",
              "      display:flex;\n",
              "      flex-wrap:wrap;\n",
              "      gap: 12px;\n",
              "    }\n",
              "\n",
              "    .colab-df-convert {\n",
              "      background-color: #E8F0FE;\n",
              "      border: none;\n",
              "      border-radius: 50%;\n",
              "      cursor: pointer;\n",
              "      display: none;\n",
              "      fill: #1967D2;\n",
              "      height: 32px;\n",
              "      padding: 0 0 0 0;\n",
              "      width: 32px;\n",
              "    }\n",
              "\n",
              "    .colab-df-convert:hover {\n",
              "      background-color: #E2EBFA;\n",
              "      box-shadow: 0px 1px 2px rgba(60, 64, 67, 0.3), 0px 1px 3px 1px rgba(60, 64, 67, 0.15);\n",
              "      fill: #174EA6;\n",
              "    }\n",
              "\n",
              "    [theme=dark] .colab-df-convert {\n",
              "      background-color: #3B4455;\n",
              "      fill: #D2E3FC;\n",
              "    }\n",
              "\n",
              "    [theme=dark] .colab-df-convert:hover {\n",
              "      background-color: #434B5C;\n",
              "      box-shadow: 0px 1px 3px 1px rgba(0, 0, 0, 0.15);\n",
              "      filter: drop-shadow(0px 1px 2px rgba(0, 0, 0, 0.3));\n",
              "      fill: #FFFFFF;\n",
              "    }\n",
              "  </style>\n",
              "\n",
              "      <script>\n",
              "        const buttonEl =\n",
              "          document.querySelector('#df-f606b14c-5dd6-4322-8954-e56d0cc6dfdb button.colab-df-convert');\n",
              "        buttonEl.style.display =\n",
              "          google.colab.kernel.accessAllowed ? 'block' : 'none';\n",
              "\n",
              "        async function convertToInteractive(key) {\n",
              "          const element = document.querySelector('#df-f606b14c-5dd6-4322-8954-e56d0cc6dfdb');\n",
              "          const dataTable =\n",
              "            await google.colab.kernel.invokeFunction('convertToInteractive',\n",
              "                                                     [key], {});\n",
              "          if (!dataTable) return;\n",
              "\n",
              "          const docLinkHtml = 'Like what you see? Visit the ' +\n",
              "            '<a target=\"_blank\" href=https://colab.research.google.com/notebooks/data_table.ipynb>data table notebook</a>'\n",
              "            + ' to learn more about interactive tables.';\n",
              "          element.innerHTML = '';\n",
              "          dataTable['output_type'] = 'display_data';\n",
              "          await google.colab.output.renderOutput(dataTable, element);\n",
              "          const docLink = document.createElement('div');\n",
              "          docLink.innerHTML = docLinkHtml;\n",
              "          element.appendChild(docLink);\n",
              "        }\n",
              "      </script>\n",
              "    </div>\n",
              "  </div>\n",
              "  "
            ]
          },
          "metadata": {},
          "execution_count": 8
        }
      ],
      "source": [
        "def load_movie_titles(file_path):\n",
        "    column_names = ['release_date', 'title', 'unnamed_1', 'unnamed_2']\n",
        "    movie_titles = pd.read_csv(file_path, header=None, names=column_names)\n",
        "    # movie_titles['release_date'] = pd.to_datetime(movie_titles['release_date'])\n",
        "    movie_titles = movie_titles.drop(columns=['unnamed_1', 'unnamed_2'])\n",
        "    \n",
        "    # Add a new column 'movie_id'\n",
        "    movie_titles['movie_id'] = range(1, len(movie_titles)+1)\n",
        "    \n",
        "    return movie_titles\n",
        "\n",
        "movie_titles_file = 'movieTitles.csv'\n",
        "movie_titles_df = load_movie_titles(movie_titles_file)\n",
        "movie_titles_df.head()"
      ]
    },
    {
      "cell_type": "code",
      "execution_count": 9,
      "metadata": {
        "colab": {
          "base_uri": "https://localhost:8080/"
        },
        "id": "1rtWLuO72ljQ",
        "outputId": "871c3633-71da-461c-929b-60f9d3310e06"
      },
      "outputs": [
        {
          "output_type": "stream",
          "name": "stdout",
          "text": [
            "Number of rows with missing user IDs: 2176887\n",
            "Number of rows with missing movie IDs: 0\n"
          ]
        }
      ],
      "source": [
        "# Check for missing user IDs\n",
        "missing_user_ids = set(range(1, df['user_id'].max() + 1)) - set(df['user_id'].unique())\n",
        "num_missing_users = len(missing_user_ids)\n",
        "print(f'Number of rows with missing user IDs: {num_missing_users}')\n",
        "\n",
        "# Check for missing movie IDs\n",
        "missing_movie_ids = set(range(1, df['movie_id'].max() + 1)) - set(df['movie_id'].unique())\n",
        "num_missing_movies = len(missing_movie_ids)\n",
        "print(f'Number of rows with missing movie IDs: {num_missing_movies}')"
      ]
    },
    {
      "cell_type": "markdown",
      "metadata": {
        "id": "bLC2yzwUiuIB"
      },
      "source": [
        "# [3] Data Pre-Processing"
      ]
    },
    {
      "cell_type": "markdown",
      "metadata": {
        "id": "95QNESS7httH"
      },
      "source": [
        "## Creating Sparse Matrix with User ID and Movie ID"
      ]
    },
    {
      "cell_type": "code",
      "execution_count": 10,
      "metadata": {
        "colab": {
          "base_uri": "https://localhost:8080/"
        },
        "id": "ohqYcKZ-u8Dd",
        "outputId": "9e831774-9c8b-4d85-b0ab-c55c43659738"
      },
      "outputs": [
        {
          "output_type": "stream",
          "name": "stdout",
          "text": [
            "Looking in indexes: https://pypi.org/simple, https://us-python.pkg.dev/colab-wheels/public/simple/\n",
            "Requirement already satisfied: tables in /usr/local/lib/python3.10/dist-packages (3.8.0)\n",
            "Requirement already satisfied: cython>=0.29.21 in /usr/local/lib/python3.10/dist-packages (from tables) (0.29.34)\n",
            "Requirement already satisfied: numpy>=1.19.0 in /usr/local/lib/python3.10/dist-packages (from tables) (1.22.4)\n",
            "Requirement already satisfied: numexpr>=2.6.2 in /usr/local/lib/python3.10/dist-packages (from tables) (2.8.4)\n",
            "Requirement already satisfied: blosc2~=2.0.0 in /usr/local/lib/python3.10/dist-packages (from tables) (2.0.0)\n",
            "Requirement already satisfied: packaging in /usr/local/lib/python3.10/dist-packages (from tables) (23.1)\n",
            "Requirement already satisfied: py-cpuinfo in /usr/local/lib/python3.10/dist-packages (from tables) (9.0.0)\n",
            "Requirement already satisfied: msgpack in /usr/local/lib/python3.10/dist-packages (from blosc2~=2.0.0->tables) (1.0.5)\n"
          ]
        }
      ],
      "source": [
        "pip install tables"
      ]
    },
    {
      "cell_type": "code",
      "execution_count": 11,
      "metadata": {
        "colab": {
          "base_uri": "https://localhost:8080/"
        },
        "id": "EuJSR7PFu-0y",
        "outputId": "343102ba-e7a9-4cde-d269-7ef2ae8b76b4"
      },
      "outputs": [
        {
          "output_type": "stream",
          "name": "stdout",
          "text": [
            "Sparse data matrix created with shape: (2649430, 5001)\n"
          ]
        }
      ],
      "source": [
        "import pandas as pd\n",
        "from scipy.sparse import csr_matrix\n",
        "\n",
        "# Filter out zero ratings\n",
        "df_filtered = df[df['rating'] != 0]\n",
        "\n",
        "# Create a sparse matrix\n",
        "row = df_filtered['user_id'].astype(int)\n",
        "col = df_filtered['movie_id'].astype(int)\n",
        "data = df_filtered['rating']\n",
        "\n",
        "sparse_matrix = csr_matrix((data, (row, col)))\n",
        "\n",
        "print(f'Sparse data matrix created with shape: {sparse_matrix.shape}')"
      ]
    },
    {
      "cell_type": "code",
      "execution_count": 12,
      "metadata": {
        "colab": {
          "base_uri": "https://localhost:8080/"
        },
        "id": "cWQsqmz84e4p",
        "outputId": "62c41bf0-01be-476f-bf49-da2f4e66315c"
      },
      "outputs": [
        {
          "output_type": "stream",
          "name": "stdout",
          "text": [
            "User ID: 7, Movie ID: 31, Rating: 3.0\n",
            "User ID: 7, Movie ID: 158, Rating: 3.0\n",
            "User ID: 7, Movie ID: 174, Rating: 4.0\n",
            "User ID: 7, Movie ID: 176, Rating: 5.0\n",
            "User ID: 7, Movie ID: 192, Rating: 2.0\n",
            "User ID: 7, Movie ID: 198, Rating: 3.0\n",
            "User ID: 7, Movie ID: 242, Rating: 3.0\n",
            "User ID: 7, Movie ID: 296, Rating: 4.0\n",
            "User ID: 7, Movie ID: 300, Rating: 3.0\n",
            "User ID: 7, Movie ID: 330, Rating: 4.0\n"
          ]
        }
      ],
      "source": [
        "def print_first_n_entries(sparse_matrix, n=5):\n",
        "    row, col = sparse_matrix.nonzero()\n",
        "    for i in range(n):\n",
        "        user_id = row[i] + 1  # Add 1 to match the original user ID\n",
        "        movie_id = col[i] + 1  # Add 1 to match the original movie ID\n",
        "        rating = sparse_matrix[row[i], col[i]]\n",
        "        print(f'User ID: {user_id}, Movie ID: {movie_id}, Rating: {rating}')\n",
        "\n",
        "# Call the function to print the first 5 entries\n",
        "print_first_n_entries(sparse_matrix, 10)"
      ]
    },
    {
      "cell_type": "code",
      "execution_count": 13,
      "metadata": {
        "colab": {
          "base_uri": "https://localhost:8080/"
        },
        "id": "9lZptFw25po_",
        "outputId": "d93fcd31-b43b-40cd-f787-875ed9240cb3"
      },
      "outputs": [
        {
          "output_type": "stream",
          "name": "stdout",
          "text": [
            "Number of unique users: 472542\n"
          ]
        }
      ],
      "source": [
        "unique_users = len(set(sparse_matrix.nonzero()[0]))\n",
        "print(f\"Number of unique users: {unique_users}\")"
      ]
    },
    {
      "cell_type": "code",
      "execution_count": 14,
      "metadata": {
        "colab": {
          "base_uri": "https://localhost:8080/"
        },
        "id": "PGcMnoaK6Oza",
        "outputId": "7e9ad8b8-95fc-4cbb-f2b5-74eff0f4bb7e"
      },
      "outputs": [
        {
          "output_type": "stream",
          "name": "stdout",
          "text": [
            "Number of unique movies: 5000\n"
          ]
        }
      ],
      "source": [
        "unique_users = len(set(sparse_matrix.nonzero()[1]))\n",
        "print(f\"Number of unique movies: {unique_users}\")"
      ]
    },
    {
      "cell_type": "markdown",
      "metadata": {
        "id": "sfjAR32iBA8q"
      },
      "source": [
        "# [4] Data Exploration"
      ]
    },
    {
      "cell_type": "markdown",
      "metadata": {
        "id": "99FOHNjOZkib"
      },
      "source": [
        "## Distribution of Ratings Given by Users"
      ]
    },
    {
      "cell_type": "code",
      "execution_count": 15,
      "metadata": {
        "colab": {
          "base_uri": "https://localhost:8080/",
          "height": 386
        },
        "id": "f6QazbYxbQRB",
        "outputId": "66cc2ca5-a937-47b4-f2c9-dfc459977327"
      },
      "outputs": [
        {
          "output_type": "display_data",
          "data": {
            "text/plain": [
              "<Figure size 1200x600 with 1 Axes>"
            ],
            "image/png": "[encoded data removed]"
          },
          "metadata": {}
        }
      ],
      "source": [
        "import matplotlib.pyplot as plt\n",
        "\n",
        "# group ratings and count number of occurrences\n",
        "ratings_grouped = df['rating'].value_counts()\n",
        "\n",
        "# get number of movies, customers, and ratings\n",
        "num_movies = df['movie_id'].nunique()\n",
        "num_customers = df['user_id'].nunique()\n",
        "num_ratings = df.shape[0]\n",
        "\n",
        "# define colors for each rating\n",
        "colors = ['#0074D9', '#2ECC40', '#FF851B', '#FF4136', '#FFDC00']\n",
        "\n",
        "# map ratings to colors\n",
        "ratings_colors = {1: colors[0], 2: colors[1], 3: colors[2], 4: colors[3], 5: colors[4]}\n",
        "\n",
        "# create horizontal bar chart\n",
        "fig, ax = plt.subplots(figsize=(12, 6))\n",
        "bars = ax.barh(ratings_grouped.index, ratings_grouped.values, color=[ratings_colors[r] for r in ratings_grouped.index])\n",
        "plt.title(f'Total pool: {num_movies:,} Movies, {num_customers:,} customers, {num_ratings:,} ratings given', fontsize=16)\n",
        "plt.axis('off')\n",
        "\n",
        "# add text labels to bars\n",
        "for i, rating in enumerate(ratings_grouped.index):\n",
        "    percentage = ratings_grouped.values[i] / num_ratings * 100\n",
        "    ax.text(ratings_grouped.values[i]/4, rating, f'{percentage:.0f}%', color='black', weight='bold', fontsize=14)\n",
        "\n",
        "# add legend for ratings colors\n",
        "legend_handles = []\n",
        "for r in range(1, 6):\n",
        "    legend_handles.append(plt.Rectangle((0,0), 1, 1, fc=ratings_colors[r]))\n",
        "ax.legend(legend_handles, ['1', '2', '3', '4', '5'], bbox_to_anchor=(1.05, 1), loc='upper left', title='Rating')\n",
        "\n",
        "plt.tight_layout()\n",
        "plt.show()\n"
      ]
    },
    {
      "cell_type": "markdown",
      "metadata": {
        "id": "InWAnq7SBOBj"
      },
      "source": [
        "## Mean Ratings for Each Movie"
      ]
    },
    {
      "cell_type": "code",
      "execution_count": 16,
      "metadata": {
        "colab": {
          "base_uri": "https://localhost:8080/",
          "height": 472
        },
        "id": "hd5fZWpHF8WO",
        "outputId": "88488622-44dd-4a09-d016-703e6b5c5aea"
      },
      "outputs": [
        {
          "output_type": "display_data",
          "data": {
            "text/plain": [
              "<Figure size 640x480 with 1 Axes>"
            ],
            "image/png": "[encoded data removed]"
          },
          "metadata": {}
        }
      ],
      "source": [
        "# Calculate mean ratings for each movie\n",
        "mean_ratings = df.groupby('movie_id')['rating'].mean()\n",
        "\n",
        "# Create histogram of mean ratings\n",
        "plt.hist(mean_ratings, bins=20, edgecolor='black')\n",
        "plt.xlabel('Mean Ratings')\n",
        "plt.ylabel('Frequency')\n",
        "plt.title('Mean Ratings for Each Movie')\n",
        "plt.show()"
      ]
    },
    {
      "cell_type": "markdown",
      "metadata": {
        "id": "fbFVoeiBDUO6"
      },
      "source": [
        "## Mode Ratings from Each User"
      ]
    },
    {
      "cell_type": "code",
      "execution_count": 17,
      "metadata": {
        "colab": {
          "base_uri": "https://localhost:8080/",
          "height": 527
        },
        "id": "bwZK9zLlDXEr",
        "outputId": "f65ad4ab-4f8f-4af6-87e7-a311299a67fe"
      },
      "outputs": [
        {
          "output_type": "stream",
          "name": "stderr",
          "text": [
            "<ipython-input-17-cb0c434590a6>:4: FutureWarning: Unlike other reduction functions (e.g. `skew`, `kurtosis`), the default behavior of `mode` typically preserves the axis it acts along. In SciPy 1.11.0, this behavior will change: the default value of `keepdims` will become False, the `axis` over which the statistic is taken will be eliminated, and the value None will no longer be accepted. Set `keepdims` to True or False to avoid this warning.\n",
            "  mode_ratings = df.groupby('user_id')['rating'].agg(lambda x: stats.mode(x)[0][0])\n"
          ]
        },
        {
          "output_type": "display_data",
          "data": {
            "text/plain": [
              "<Figure size 640x480 with 1 Axes>"
            ],
            "image/png": "[encoded data removed]"
          },
          "metadata": {}
        }
      ],
      "source": [
        "from scipy import stats\n",
        "\n",
        "# Calculate mode ratings for each user\n",
        "mode_ratings = df.groupby('user_id')['rating'].agg(lambda x: stats.mode(x)[0][0])\n",
        "\n",
        "# Create histogram of mode ratings\n",
        "plt.hist(mode_ratings, bins=[0.5, 1.5, 2.5, 3.5, 4.5, 5.5], edgecolor='black', rwidth=0.8)\n",
        "plt.xlabel('Mode Ratings')\n",
        "plt.ylabel('Frequency')\n",
        "plt.title('Histogram of Mode Ratings for Each User')\n",
        "plt.xticks([1, 2, 3, 4, 5])\n",
        "plt.show()"
      ]
    },
    {
      "cell_type": "markdown",
      "metadata": {
        "id": "0Sk5RInnIjn7"
      },
      "source": [
        "# [5] Base Model: Mean Rating"
      ]
    },
    {
      "cell_type": "markdown",
      "metadata": {
        "id": "BJNcmg8LoARl"
      },
      "source": [
        "## [A] Model Training"
      ]
    },
    {
      "cell_type": "code",
      "execution_count": 18,
      "metadata": {
        "colab": {
          "base_uri": "https://localhost:8080/"
        },
        "id": "8jKTXpa-Imu0",
        "outputId": "903e0a5f-bdcd-4228-dc89-459fcbce9790"
      },
      "outputs": [
        {
          "output_type": "stream",
          "name": "stdout",
          "text": [
            "RMSE on Test:  1.2766639435883955\n"
          ]
        }
      ],
      "source": [
        "import pandas as pd\n",
        "import numpy as np\n",
        "from sklearn.metrics import mean_squared_error\n",
        "\n",
        "# Set a random seed for reproducibility\n",
        "random_seed = 42\n",
        "\n",
        "# Select one random rating per movie for the test set\n",
        "test_df = df.groupby('movie_id').apply(lambda x: x.sample(n=1, random_state=random_seed)).reset_index(drop=True)\n",
        "train_df = df.drop(test_df.index)\n",
        "\n",
        "# Calculate global mean\n",
        "global_mean = train_df['rating'].mean()\n",
        "\n",
        "# Make predictions\n",
        "test_df['prediction'] = global_mean\n",
        "\n",
        "# Calculate RMSE\n",
        "rmse_base = np.sqrt(mean_squared_error(test_df['rating'], test_df['prediction']))\n",
        "print(\"RMSE on Test: \", rmse_base)"
      ]
    },
    {
      "cell_type": "markdown",
      "metadata": {
        "id": "G663v9mqwFU5"
      },
      "source": [
        "Confirm Train-Test Split is as Desired"
      ]
    },
    {
      "cell_type": "code",
      "execution_count": 19,
      "metadata": {
        "colab": {
          "base_uri": "https://localhost:8080/"
        },
        "id": "O2ma9ETswIyt",
        "outputId": "aa314e45-64c1-48f7-be68-4278bfb65a91"
      },
      "outputs": [
        {
          "output_type": "stream",
          "name": "stdout",
          "text": [
            "Size of train_df:  (27005225, 4)\n",
            "Size of test_df:  (5000, 5)\n"
          ]
        }
      ],
      "source": [
        "print(\"Size of train_df: \", train_df.shape)\n",
        "print(\"Size of test_df: \", test_df.shape)"
      ]
    },
    {
      "cell_type": "code",
      "execution_count": 20,
      "metadata": {
        "colab": {
          "base_uri": "https://localhost:8080/"
        },
        "id": "i-vgYkXSw1cZ",
        "outputId": "b059d651-cb48-45b0-e293-ba04c7e14a27"
      },
      "outputs": [
        {
          "output_type": "stream",
          "name": "stdout",
          "text": [
            "Train set column names: Index(['movie_id', 'user_id', 'rating', 'date'], dtype='object')\n",
            "Test set column names: Index(['movie_id', 'user_id', 'rating', 'date', 'prediction'], dtype='object')\n"
          ]
        }
      ],
      "source": [
        "# Print column names of train set\n",
        "print(\"Train set column names:\", train_df.columns)\n",
        "\n",
        "# Print column names of test set\n",
        "print(\"Test set column names:\", test_df.columns)"
      ]
    },
    {
      "cell_type": "markdown",
      "metadata": {
        "id": "45fFhqanC3xh"
      },
      "source": [
        "# [6] Baseline Models "
      ]
    },
    {
      "cell_type": "markdown",
      "metadata": {
        "id": "Oapxmyvt_zoy"
      },
      "source": [
        "## Model 1: User's Mean Ratings"
      ]
    },
    {
      "cell_type": "code",
      "execution_count": 21,
      "metadata": {
        "colab": {
          "base_uri": "https://localhost:8080/"
        },
        "id": "gRi8ZNtbORQ7",
        "outputId": "ff00dcd3-42a0-4390-eeca-cd8e27cabe28"
      },
      "outputs": [
        {
          "output_type": "stream",
          "name": "stdout",
          "text": [
            "RMSE on Test (User Mean):  1.1228696375413207\n"
          ]
        }
      ],
      "source": [
        "import pandas as pd\n",
        "import numpy as np\n",
        "from sklearn.metrics import mean_squared_error\n",
        "\n",
        "# Set a random seed for reproducibility\n",
        "random_seed = 42\n",
        "\n",
        "# Select one random rating per movie for the test set\n",
        "test_df = df.groupby('movie_id').sample(n=1, random_state=random_seed)\n",
        "train_df = df.drop(test_df.index)\n",
        "\n",
        "# Calculate user mean ratings\n",
        "user_mean_ratings = train_df.groupby('user_id')['rating'].mean()\n",
        "overall_mean_rating = train_df['rating'].mean()\n",
        "\n",
        "# Make predictions\n",
        "test_df['prediction'] = test_df['user_id'].apply(lambda user_id: user_mean_ratings.get(user_id, overall_mean_rating))\n",
        "\n",
        "# Calculate RMSE\n",
        "rmse_user_mean = np.sqrt(mean_squared_error(test_df['rating'], test_df['prediction']))\n",
        "print(\"RMSE on Test (User Mean): \", rmse_user_mean)"
      ]
    },
    {
      "cell_type": "markdown",
      "metadata": {
        "id": "djgy-TLd_9sz"
      },
      "source": [
        "## Model 2: User's Median Ratings"
      ]
    },
    {
      "cell_type": "code",
      "execution_count": 22,
      "metadata": {
        "colab": {
          "base_uri": "https://localhost:8080/"
        },
        "id": "6425ZDE4ACGx",
        "outputId": "2d673b71-d9b6-43ac-cb0f-333790e32b76"
      },
      "outputs": [
        {
          "output_type": "stream",
          "name": "stdout",
          "text": [
            "RMSE on Test (User Median):  1.2064410470470572\n"
          ]
        }
      ],
      "source": [
        "import pandas as pd\n",
        "import numpy as np\n",
        "from sklearn.metrics import mean_squared_error\n",
        "\n",
        "# Set a random seed for reproducibility\n",
        "random_seed = 42\n",
        "\n",
        "# Select one random rating per movie for the test set\n",
        "test_df = df.groupby('movie_id').sample(n=1, random_state=random_seed)\n",
        "train_df = df.drop(test_df.index)\n",
        "\n",
        "# Calculate user median ratings\n",
        "user_median_ratings = train_df.groupby('user_id')['rating'].median()\n",
        "overall_median_rating = train_df['rating'].median()\n",
        "\n",
        "# Make predictions\n",
        "test_df['prediction'] = test_df['user_id'].apply(lambda user_id: user_median_ratings.get(user_id, overall_median_rating))\n",
        "\n",
        "# Calculate RMSE\n",
        "rmse_user_median = np.sqrt(mean_squared_error(test_df['rating'], test_df['prediction']))\n",
        "print(\"RMSE on Test (User Median): \", rmse_user_median)"
      ]
    },
    {
      "cell_type": "markdown",
      "metadata": {
        "id": "MRfnaXwbBpH2"
      },
      "source": [
        "## Model 3: Movie's Mean Ratings"
      ]
    },
    {
      "cell_type": "code",
      "execution_count": 23,
      "metadata": {
        "colab": {
          "base_uri": "https://localhost:8080/"
        },
        "id": "iHkJ1wihBwLj",
        "outputId": "3ef48ade-75d8-46ce-985e-5680039014ea"
      },
      "outputs": [
        {
          "output_type": "stream",
          "name": "stdout",
          "text": [
            "RMSE on Test (Movie Mean):  1.1160308239831598\n"
          ]
        }
      ],
      "source": [
        "import pandas as pd\n",
        "import numpy as np\n",
        "from sklearn.metrics import mean_squared_error\n",
        "\n",
        "# Set a random seed for reproducibility\n",
        "random_seed = 42\n",
        "\n",
        "# Select one random rating per movie for the test set\n",
        "test_df = df.groupby('movie_id').sample(n=1, random_state=random_seed)\n",
        "train_df = df.drop(test_df.index)\n",
        "\n",
        "# Calculate movie mean ratings\n",
        "movie_mean_ratings = train_df.groupby('movie_id')['rating'].mean()\n",
        "\n",
        "# Make predictions\n",
        "test_df['prediction'] = test_df['movie_id'].apply(lambda movie_id: movie_mean_ratings[movie_id])\n",
        "\n",
        "# Calculate RMSE\n",
        "rmse_movie_mean = np.sqrt(mean_squared_error(test_df['rating'], test_df['prediction']))\n",
        "print(\"RMSE on Test (Movie Mean): \", rmse_movie_mean)"
      ]
    },
    {
      "cell_type": "markdown",
      "metadata": {
        "id": "Gi8Ssz_NBwVG"
      },
      "source": [
        "## Model 4: Movie's Median Rating"
      ]
    },
    {
      "cell_type": "code",
      "execution_count": 24,
      "metadata": {
        "colab": {
          "base_uri": "https://localhost:8080/"
        },
        "id": "jm5X4r8pBz0E",
        "outputId": "78f95322-b471-40ea-9f17-1e648e240817"
      },
      "outputs": [
        {
          "output_type": "stream",
          "name": "stdout",
          "text": [
            "RMSE on Test (Movie Median):  1.1578860047517632\n"
          ]
        }
      ],
      "source": [
        "import pandas as pd\n",
        "import numpy as np\n",
        "from sklearn.metrics import mean_squared_error\n",
        "\n",
        "# Set a random seed for reproducibility\n",
        "random_seed = 42\n",
        "\n",
        "# Select one random rating per movie for the test set\n",
        "test_df = df.groupby('movie_id').sample(n=1, random_state=random_seed)\n",
        "train_df = df.drop(test_df.index)\n",
        "\n",
        "# Calculate movie median ratings\n",
        "movie_median_ratings = train_df.groupby('movie_id')['rating'].median()\n",
        "\n",
        "# Make predictions\n",
        "test_df['prediction'] = test_df['movie_id'].apply(lambda movie_id: movie_median_ratings[movie_id])\n",
        "\n",
        "# Calculate RMSE\n",
        "rmse_movie_median = np.sqrt(mean_squared_error(test_df['rating'], test_df['prediction']))\n",
        "print(\"RMSE on Test (Movie Median): \", rmse_movie_median)"
      ]
    },
    {
      "cell_type": "markdown",
      "metadata": {
        "id": "xRSs2deiN5Z-"
      },
      "source": [
        "## Comparison of the Models"
      ]
    },
    {
      "cell_type": "markdown",
      "metadata": {
        "id": "rM36GQiDPbVA"
      },
      "source": [
        "### Bar Plot of RMSE value"
      ]
    },
    {
      "cell_type": "code",
      "execution_count": 25,
      "metadata": {
        "colab": {
          "base_uri": "https://localhost:8080/",
          "height": 472
        },
        "id": "TnwVfBr-N8gh",
        "outputId": "355b5423-688a-49f3-fd40-f39f7f12ee0d"
      },
      "outputs": [
        {
          "output_type": "display_data",
          "data": {
            "text/plain": [
              "<Figure size 640x480 with 1 Axes>"
            ],
            "image/png": "[encoded data removed]"
          },
          "metadata": {}
        }
      ],
      "source": [
        "import seaborn as sns\n",
        "import matplotlib.pyplot as plt\n",
        "\n",
        "# Create a bar plot of RMSE values\n",
        "sns.barplot(x=['User Mean', 'User Median', 'Movie Mean', 'Movie Median'], y=[rmse_user_mean, rmse_user_median, rmse_movie_mean, rmse_movie_median])\n",
        "plt.title('RMSE of Baseline Models')\n",
        "plt.xlabel('Model')\n",
        "plt.ylabel('RMSE')\n",
        "\n",
        "# Change x-axis label size\n",
        "plt.xticks(fontsize=10)\n",
        "\n",
        "# Show the plot\n",
        "plt.show()"
      ]
    },
    {
      "cell_type": "markdown",
      "metadata": {
        "id": "yHUqJLMqP1pr"
      },
      "source": [
        "#### RMSE of Basic Models"
      ]
    },
    {
      "cell_type": "code",
      "execution_count": 26,
      "metadata": {
        "colab": {
          "base_uri": "https://localhost:8080/",
          "height": 472
        },
        "id": "3zHazOtsPaEs",
        "outputId": "fce8b63a-1cfe-40fe-eb7f-cf9b8da7c137"
      },
      "outputs": [
        {
          "output_type": "display_data",
          "data": {
            "text/plain": [
              "<Figure size 640x480 with 1 Axes>"
            ],
            "image/png": "[encoded data removed]"
          },
          "metadata": {}
        }
      ],
      "source": [
        "import seaborn as sns\n",
        "import matplotlib.pyplot as plt\n",
        "\n",
        "# Create a box plot of RMSE values\n",
        "sns.boxplot(data=[rmse_user_mean, rmse_user_median, rmse_movie_mean, rmse_movie_median], \n",
        "            width=0.4,\n",
        "            palette='Set2')\n",
        "plt.title('RMSE of Baseline Models')\n",
        "plt.xlabel('Model')\n",
        "plt.ylabel('RMSE')\n",
        "\n",
        "# Show the plot\n",
        "plt.show()"
      ]
    },
    {
      "cell_type": "markdown",
      "metadata": {
        "id": "w_15sJAGDICH"
      },
      "source": [
        "# [7] Main Models "
      ]
    },
    {
      "cell_type": "markdown",
      "metadata": {
        "id": "D0SHGbvo_VDw"
      },
      "source": [
        "## Model 1: Matrix Factorization"
      ]
    },
    {
      "cell_type": "markdown",
      "metadata": {
        "id": "-VSYXDkX5z-c"
      },
      "source": [
        "### Matrix Factorization"
      ]
    },
    {
      "cell_type": "code",
      "execution_count": 27,
      "metadata": {
        "id": "cRf4GWio44Il"
      },
      "outputs": [],
      "source": [
        "import numpy as np\n",
        "\n",
        "class MatrixFactorization():\n",
        "    def __init__(self, ratings_matrix, num_latent_dims, learning_rate, regularization_parameter, num_iterations):\n",
        "        \"\"\"\n",
        "        Perform matrix factorization to predict empty entries in a matrix.\n",
        "\n",
        "        Arguments\n",
        "        - ratings_matrix (ndarray)      : user-item rating matrix\n",
        "        - num_latent_dims (int)         : number of latent dimensions\n",
        "        - learning_rate (float)         : learning rate\n",
        "        - regularization_parameter (float): regularization parameter\n",
        "        - num_iterations (int)          : number of iterations to perform stochastic gradient descent\n",
        "        \"\"\"\n",
        "\n",
        "        self.R = ratings_matrix\n",
        "        self.num_users, self.num_items = ratings_matrix.shape\n",
        "        self.K = num_latent_dims\n",
        "        self.alpha = learning_rate\n",
        "        self.beta = regularization_parameter\n",
        "        self.iterations = num_iterations\n",
        "\n",
        "    def train(self):\n",
        "        # Initialize user and item latent feature matrices\n",
        "        self.P = np.random.normal(scale=1./self.K, size=(self.num_users, self.K))\n",
        "        self.Q = np.random.normal(scale=1./self.K, size=(self.num_items, self.K))\n",
        "\n",
        "        # Initialize the biases\n",
        "        self.b_u = np.zeros(self.num_users)\n",
        "        self.b_i = np.zeros(self.num_items)\n",
        "        self.b = np.mean(self.R[np.where(self.R != 0)])\n",
        "\n",
        "        # Create a list of training samples\n",
        "        self.samples = [(i, j, self.R[i, j]) for i in range(self.num_users) for j in range(self.num_items) if self.R[i, j] > 0]\n",
        "\n",
        "        # Perform stochastic gradient descent for number of iterations\n",
        "        training_process = []\n",
        "        for i in range(self.iterations):\n",
        "            np.random.shuffle(self.samples)\n",
        "            self.sgd()\n",
        "            mse = self.mse()\n",
        "            training_process.append((i, mse))\n",
        "\n",
        "        return training_process\n",
        "\n",
        "    def mse(self):\n",
        "        \"\"\"\n",
        "        A function to compute the total mean square error\n",
        "        \"\"\"\n",
        "        xs, ys = self.R.nonzero()\n",
        "        predicted = self.full_matrix()\n",
        "        error = 0\n",
        "        for x, y in zip(xs, ys):\n",
        "            error += pow(self.R[x, y] - predicted[x, y], 2)\n",
        "        return np.sqrt(error)\n",
        "\n",
        "    def sgd(self):\n",
        "        \"\"\"\n",
        "        Perform stochastic gradient descent\n",
        "        \"\"\"\n",
        "        for i, j, r in self.samples:\n",
        "            # Compute prediction and error\n",
        "            prediction = self.get_rating(i, j)\n",
        "            error = r - prediction\n",
        "\n",
        "            # Update biases\n",
        "            self.b_u[i] += self.alpha * (error - self.beta * self.b_u[i])\n",
        "            self.b_i[j] += self.alpha * (error - self.beta * self.b_i[j])\n",
        "\n",
        "            # Update user and item latent feature matrices\n",
        "            self.P[i, :] += self.alpha * (error * self.Q[j, :] - self.beta * self.P[i,:])\n",
        "            self.Q[j, :] += self.alpha * (error * self.P[i, :] - self.beta * self.Q[j,:])\n",
        "\n",
        "    def get_rating(self, i, j):\n",
        "        \"\"\"\n",
        "        Get the predicted rating of user i and item j\n",
        "        \"\"\"\n",
        "        prediction = self.b + self.b_u[i] + self.b_i[j] + self.P[i, :].dot(self.Q[j, :].T)\n",
        "        return prediction\n",
        "\n",
        "    def full_matrix(self):\n",
        "        \"\"\"\n",
        "        Compute the full matrix using the resultant biases, P and Q\n",
        "        \"\"\"\n",
        "        return self.b + self.b_u[:,np.newaxis] + self.b_i[np.newaxis:,] + self.P.dot(self.Q.T)\n"
      ]
    },
    {
      "cell_type": "markdown",
      "metadata": {
        "id": "JAj0MBLui9B5"
      },
      "source": [
        "### Training Matrix Factorization Model"
      ]
    },
    {
      "cell_type": "code",
      "execution_count": 28,
      "metadata": {
        "colab": {
          "base_uri": "https://localhost:8080/"
        },
        "id": "e9xK0kr8AZ_4",
        "outputId": "f6f7a50d-3096-45bf-a4fc-bf11f5156ae7"
      },
      "outputs": [
        {
          "output_type": "stream",
          "name": "stdout",
          "text": [
            "Best number of latent attributes: 15\n",
            "Best RMSE: 1.0539844590758503\n"
          ]
        }
      ],
      "source": [
        "import numpy as np\n",
        "from sklearn.metrics import mean_squared_error\n",
        "from surprise import SVD, Dataset, Reader\n",
        "from surprise.model_selection import GridSearchCV\n",
        "\n",
        "# Reduce the size of the dataset by randomly selecting a smaller subset\n",
        "subset_df = df.sample(n=10000, random_state=42)\n",
        "\n",
        "# Convert the sparse matrix to Surprise dataset\n",
        "reader = Reader(rating_scale=(1, 5))\n",
        "data = Dataset.load_from_df(subset_df[['user_id', 'movie_id', 'rating']], reader)\n",
        "\n",
        "# Define the range of latent attributes to search\n",
        "latent_attribute_range = np.arange(5, 51, 5)  # Search from 5 to 50 latent attributes, in increments of 5\n",
        "\n",
        "# Set the hyperparameters for grid search\n",
        "param_grid = {\n",
        "    'n_factors': latent_attribute_range,\n",
        "    'n_epochs': [20],  # Number of training epochs\n",
        "    'lr_all': [0.005],  # Learning rate for all parameters\n",
        "    'reg_all': [0.02],  # Regularization term for all parameters\n",
        "}\n",
        "\n",
        "# Create and fit the GridSearchCV object\n",
        "grid_search = GridSearchCV(SVD, param_grid, measures=['rmse'], cv=3, n_jobs=-1)\n",
        "grid_search.fit(data)\n",
        "\n",
        "# Get the best parameters and the corresponding RMSE\n",
        "best_params = grid_search.best_params['rmse']\n",
        "best_rmse = grid_search.best_score['rmse']\n",
        "\n",
        "print(f\"Best number of latent attributes: {best_params['n_factors']}\")\n",
        "print(f\"Best RMSE: {best_rmse}\")"
      ]
    },
    {
      "cell_type": "code",
      "execution_count": 29,
      "metadata": {
        "colab": {
          "base_uri": "https://localhost:8080/"
        },
        "id": "O7lDpIZqknrh",
        "outputId": "e4aa6a33-b2a7-4a66-d900-8214bca6b827"
      },
      "outputs": [
        {
          "output_type": "execute_result",
          "data": {
            "text/plain": [
              "<surprise.prediction_algorithms.matrix_factorization.SVD at 0x7f21494e1a20>"
            ]
          },
          "metadata": {},
          "execution_count": 29
        }
      ],
      "source": [
        "# Train a matrix factorization model on the full dataset\n",
        "mf = SVD(n_factors=best_params['n_factors'], n_epochs=20, lr_all=0.005, reg_all=0.02)\n",
        "mf.fit(data.build_full_trainset())"
      ]
    },
    {
      "cell_type": "markdown",
      "metadata": {
        "id": "ntOsi7GVjnID"
      },
      "source": [
        "### Creating Test Set and Evaluating Model"
      ]
    },
    {
      "cell_type": "code",
      "execution_count": 30,
      "metadata": {
        "colab": {
          "base_uri": "https://localhost:8080/"
        },
        "id": "VQqG--n880WH",
        "outputId": "3b6542f0-aa2e-4927-eed2-835796223e10"
      },
      "outputs": [
        {
          "output_type": "stream",
          "name": "stdout",
          "text": [
            "RMSE on Test Set: 1.2512435335239207\n"
          ]
        }
      ],
      "source": [
        "import random\n",
        "import numpy as np\n",
        "from scipy.sparse import find, csr_matrix\n",
        "from sklearn.metrics import mean_squared_error\n",
        "\n",
        "# Find the non-zero ratings in the sparse matrix\n",
        "rows, cols, ratings = find(sparse_matrix)\n",
        "\n",
        "# Initialize the train and test matrices\n",
        "train_data = []\n",
        "test_data = []\n",
        "train_indices = []\n",
        "test_indices = []\n",
        "\n",
        "# Split the data by movie id\n",
        "unique_movies = np.unique(cols)\n",
        "for movie_id in unique_movies:\n",
        "    # Get the indices where the movie is rated\n",
        "    movie_indices = np.where(cols == movie_id)[0]\n",
        "\n",
        "    # Randomly choose one rating to put in the test set\n",
        "    test_idx = random.choice(movie_indices)\n",
        "    train_indices_movie = np.delete(movie_indices, np.where(movie_indices == test_idx))\n",
        "\n",
        "    # Add the ratings to the train and test data\n",
        "    train_data.extend(ratings[train_indices_movie])\n",
        "    test_data.append(ratings[test_idx])\n",
        "    train_indices.extend([(rows[i], movie_id) for i in train_indices_movie])\n",
        "    test_indices.append((rows[test_idx], movie_id))\n",
        "\n",
        "# Convert the train and test data back to sparse matrices\n",
        "train_sparse_matrix = csr_matrix((train_data, zip(*train_indices)), shape=sparse_matrix.shape)\n",
        "test_sparse_matrix = csr_matrix((test_data, zip(*test_indices)), shape=sparse_matrix.shape)\n",
        "\n",
        "# Get the predicted ratings for the test set\n",
        "testset = [(user_idx, movie_idx, rating) for (user_idx, movie_idx), rating in zip(test_indices, test_data)]\n",
        "test_pred = mf.test(testset)\n",
        "\n",
        "# Extract true labels\n",
        "test_labels = np.array(test_data)\n",
        "\n",
        "# Evaluate performance using RMSE\n",
        "test_rmse = mean_squared_error(test_labels, [pred.est for pred in test_pred], squared=False)\n",
        "print('RMSE on Test Set:', test_rmse)\n"
      ]
    },
    {
      "cell_type": "code",
      "execution_count": 31,
      "metadata": {
        "colab": {
          "base_uri": "https://localhost:8080/"
        },
        "id": "dW28ZwAS7i0y",
        "outputId": "5bef8054-ce82-4f0f-f088-d009e13080c9"
      },
      "outputs": [
        {
          "output_type": "stream",
          "name": "stdout",
          "text": [
            "Train matrix:\n",
            "   (915, 1)\t5.0\n",
            "  (2442, 1)\t3.0\n",
            "  (3321, 1)\t3.0\n",
            "  (4326, 1)\t4.0\n",
            "  (11589, 1)\t3.0\n",
            "  (13651, 1)\t3.0\n",
            "  (14756, 1)\t4.0\n",
            "  (14924, 1)\t5.0\n",
            "  (16272, 1)\t4.0\n",
            "  (21722, 1)\t4.0\n",
            "  (30245, 1)\t5.0\n",
            "  (30878, 1)\t4.0\n",
            "  (31913, 1)\t4.0\n",
            "  (34907, 1)\t3.0\n",
            "  (38052, 1)\t3.0\n",
            "  (42921, 1)\t3.0\n",
            "  (42930, 1)\t3.0\n",
            "  (45117, 1)\t5.0\n",
            "  (51334, 1)\t4.0\n",
            "  (54774, 1)\t4.0\n",
            "  (55016, 1)\t3.0\n",
            "  (57961, 1)\t4.0\n",
            "  (59052, 1)\t2.0\n",
            "  (60343, 1)\t5.0\n",
            "  (68033, 1)\t4.0\n",
            "  :\t:\n",
            "  (2550838, 5000)\t4.0\n",
            "  (2554058, 5000)\t3.0\n",
            "  (2554750, 5000)\t5.0\n",
            "  (2565081, 5000)\t3.0\n",
            "  (2583187, 5000)\t4.0\n",
            "  (2584676, 5000)\t3.0\n",
            "  (2587314, 5000)\t3.0\n",
            "  (2597077, 5000)\t2.0\n",
            "  (2597802, 5000)\t1.0\n",
            "  (2600558, 5000)\t3.0\n",
            "  (2602249, 5000)\t3.0\n",
            "  (2602874, 5000)\t4.0\n",
            "  (2606799, 5000)\t5.0\n",
            "  (2609870, 5000)\t1.0\n",
            "  (2615044, 5000)\t4.0\n",
            "  (2617430, 5000)\t5.0\n",
            "  (2630158, 5000)\t5.0\n",
            "  (2630797, 5000)\t2.0\n",
            "  (2631950, 5000)\t1.0\n",
            "  (2632990, 5000)\t3.0\n",
            "  (2635011, 5000)\t5.0\n",
            "  (2635943, 5000)\t5.0\n",
            "  (2640550, 5000)\t4.0\n",
            "  (2643775, 5000)\t4.0\n",
            "  (2648853, 5000)\t3.0\n",
            "Test matrix:\n",
            "   (828410, 1)\t4.0\n",
            "  (503334, 2)\t4.0\n",
            "  (1037705, 3)\t4.0\n",
            "  (2275124, 4)\t5.0\n",
            "  (430459, 5)\t5.0\n",
            "  (165377, 6)\t2.0\n",
            "  (870526, 7)\t3.0\n",
            "  (1771532, 8)\t2.0\n",
            "  (462171, 9)\t2.0\n",
            "  (303270, 10)\t5.0\n",
            "  (36827, 11)\t4.0\n",
            "  (754161, 12)\t5.0\n",
            "  (1030316, 13)\t5.0\n",
            "  (1477194, 14)\t3.0\n",
            "  (1480900, 15)\t5.0\n",
            "  (2532855, 16)\t4.0\n",
            "  (488961, 17)\t3.0\n",
            "  (563469, 18)\t3.0\n",
            "  (45333, 19)\t4.0\n",
            "  (624038, 20)\t3.0\n",
            "  (960137, 21)\t4.0\n",
            "  (1734103, 22)\t1.0\n",
            "  (868971, 23)\t1.0\n",
            "  (1265711, 24)\t4.0\n",
            "  (2106056, 25)\t5.0\n",
            "  :\t:\n",
            "  (1204766, 4976)\t1.0\n",
            "  (914445, 4977)\t5.0\n",
            "  (1765796, 4978)\t4.0\n",
            "  (1110444, 4979)\t3.0\n",
            "  (316006, 4980)\t2.0\n",
            "  (322064, 4981)\t1.0\n",
            "  (760211, 4982)\t2.0\n",
            "  (1089692, 4983)\t4.0\n",
            "  (1786450, 4984)\t5.0\n",
            "  (1732841, 4985)\t3.0\n",
            "  (778911, 4986)\t3.0\n",
            "  (207861, 4987)\t4.0\n",
            "  (2479320, 4988)\t4.0\n",
            "  (599677, 4989)\t5.0\n",
            "  (442963, 4990)\t4.0\n",
            "  (2636581, 4991)\t3.0\n",
            "  (2129252, 4992)\t5.0\n",
            "  (2120058, 4993)\t5.0\n",
            "  (946972, 4994)\t5.0\n",
            "  (1662193, 4995)\t3.0\n",
            "  (1561346, 4996)\t5.0\n",
            "  (1392053, 4997)\t2.0\n",
            "  (578699, 4998)\t3.0\n",
            "  (1537336, 4999)\t2.0\n",
            "  (1552355, 5000)\t2.0\n"
          ]
        }
      ],
      "source": [
        "import numpy as np\n",
        "from scipy.sparse import find, coo_matrix\n",
        "\n",
        "# Get the row indices, column indices, and ratings\n",
        "rows, cols, ratings = find(sparse_matrix)\n",
        "\n",
        "# Split the data by movie id\n",
        "unique_movies = np.unique(cols)\n",
        "train_data = []\n",
        "test_data = []\n",
        "train_indices = []\n",
        "test_indices = []\n",
        "for movie_id in unique_movies:\n",
        "    # Get the indices where the movie is rated\n",
        "    movie_indices = np.where(cols == movie_id)[0]\n",
        "\n",
        "    # Randomly choose one rating to put in the test set\n",
        "    test_idx = np.random.choice(movie_indices)\n",
        "    train_indices_movie = np.delete(movie_indices, np.where(movie_indices == test_idx))\n",
        "\n",
        "    # Add the ratings to the train and test data\n",
        "    train_data.extend(ratings[train_indices_movie])\n",
        "    test_data.append(ratings[test_idx])\n",
        "    train_indices.extend([(rows[i], movie_id) for i in train_indices_movie])\n",
        "    test_indices.append((rows[test_idx], movie_id))\n",
        "\n",
        "# Create sparse matrices for train and test data\n",
        "train_matrix = coo_matrix((train_data, zip(*train_indices)), shape=sparse_matrix.shape)\n",
        "test_matrix = coo_matrix((test_data, zip(*test_indices)), shape=sparse_matrix.shape)\n",
        "\n",
        "print('Train matrix:\\n', train_matrix)\n",
        "print('Test matrix:\\n', test_matrix)"
      ]
    },
    {
      "cell_type": "code",
      "execution_count": 32,
      "metadata": {
        "colab": {
          "base_uri": "https://localhost:8080/"
        },
        "id": "mgM9VHYO7qpj",
        "outputId": "c61226df-173d-4d5a-e81e-cf4452c0927a"
      },
      "outputs": [
        {
          "output_type": "stream",
          "name": "stdout",
          "text": [
            "RMSE = 1.2724283407421781\n"
          ]
        }
      ],
      "source": [
        "from sklearn.metrics import mean_squared_error\n",
        "\n",
        "# Get the test labels\n",
        "test_labels = np.array(test_data)\n",
        "\n",
        "# Get the test predictions\n",
        "test_predictions = [mf.predict(uid, iid).est for uid, iid in test_indices]\n",
        "\n",
        "# Calculate RMSE\n",
        "mf_test_rmse = mean_squared_error(test_labels, test_predictions, squared=False)\n",
        "print('RMSE =', mf_test_rmse)"
      ]
    },
    {
      "cell_type": "markdown",
      "metadata": {
        "id": "GTBVAnCgiWi0"
      },
      "source": [
        "## Model 2: Singular Value Decomposition"
      ]
    },
    {
      "cell_type": "code",
      "execution_count": 33,
      "metadata": {
        "colab": {
          "base_uri": "https://localhost:8080/"
        },
        "id": "O6j1YriBann7",
        "outputId": "e886fe45-83ef-44aa-f7ed-506c335e929e"
      },
      "outputs": [
        {
          "output_type": "stream",
          "name": "stdout",
          "text": [
            "Looking in indexes: https://pypi.org/simple, https://us-python.pkg.dev/colab-wheels/public/simple/\n",
            "Requirement already satisfied: surprise in /usr/local/lib/python3.10/dist-packages (0.1)\n",
            "Requirement already satisfied: scikit-surprise in /usr/local/lib/python3.10/dist-packages (from surprise) (1.1.3)\n",
            "Requirement already satisfied: joblib>=1.0.0 in /usr/local/lib/python3.10/dist-packages (from scikit-surprise->surprise) (1.2.0)\n",
            "Requirement already satisfied: numpy>=1.17.3 in /usr/local/lib/python3.10/dist-packages (from scikit-surprise->surprise) (1.22.4)\n",
            "Requirement already satisfied: scipy>=1.3.2 in /usr/local/lib/python3.10/dist-packages (from scikit-surprise->surprise) (1.10.1)\n"
          ]
        }
      ],
      "source": [
        "pip install surprise"
      ]
    },
    {
      "cell_type": "markdown",
      "metadata": {
        "id": "7OZ5Qo7C42mo"
      },
      "source": [
        "### Train-Test Split"
      ]
    },
    {
      "cell_type": "code",
      "execution_count": 34,
      "metadata": {
        "colab": {
          "base_uri": "https://localhost:8080/"
        },
        "id": "qR2ruauX49bp",
        "outputId": "5fd159e9-b8c5-4c13-89fb-8f3c7b2a4ea4"
      },
      "outputs": [
        {
          "output_type": "stream",
          "name": "stdout",
          "text": [
            "Train set:\n",
            "    movie_id  user_id  rating        date\n",
            "0         1  1488844     3.0  20050906.0\n",
            "1         1   822109     5.0  20050513.0\n",
            "2         1   885013     4.0  20051019.0\n",
            "3         1    30878     4.0  20051226.0\n",
            "4         1   823519     3.0  20040503.0\n",
            "\n",
            "Test set:\n",
            "    movie_id  user_id  rating        date\n",
            "0         1  2451020     4.0  20040914.0\n",
            "1         2  1507649     5.0  20050217.0\n",
            "2         3     4783     4.0  20030425.0\n",
            "3         4    98649     2.0  20041102.0\n",
            "4         5   329475     5.0  20050129.0\n"
          ]
        }
      ],
      "source": [
        "import numpy as np\n",
        "\n",
        "# Add a new column 'random_number' to the df with random numbers between 0 and 1\n",
        "df['random_number'] = np.random.rand(len(df))\n",
        "\n",
        "# Find the index of the minimum random_number for each movie_id group\n",
        "idx = df.groupby('movie_id')['random_number'].idxmin()\n",
        "\n",
        "# Create the test set using the minimum random_number index for each movie_id\n",
        "test_df = df.loc[idx].reset_index(drop=True)\n",
        "\n",
        "# Create the train set by excluding the test set indices from df\n",
        "train_df = df.drop(idx).reset_index(drop=True)\n",
        "\n",
        "# Drop the 'random_number' column from train and test DataFrames\n",
        "train_df.drop('random_number', axis=1, inplace=True)\n",
        "test_df.drop('random_number', axis=1, inplace=True)\n",
        "\n",
        "# Check the train and test DataFrames\n",
        "print(\"Train set:\\n\", train_df.head())\n",
        "print(\"\\nTest set:\\n\", test_df.head())"
      ]
    },
    {
      "cell_type": "markdown",
      "metadata": {
        "id": "kDbKxXaS7Y4O"
      },
      "source": [
        "### Data Pre-Processing"
      ]
    },
    {
      "cell_type": "code",
      "execution_count": 35,
      "metadata": {
        "id": "V23cHEeE7LCK"
      },
      "outputs": [],
      "source": [
        "from sklearn.preprocessing import OneHotEncoder, StandardScaler\n",
        "from sklearn.compose import ColumnTransformer\n",
        "from sklearn.pipeline import Pipeline\n",
        "\n",
        "# Define the column transformer\n",
        "preprocessor = ColumnTransformer(\n",
        "    transformers=[\n",
        "        ('num', StandardScaler(), ['user_id']),\n",
        "        ('cat', OneHotEncoder(handle_unknown='ignore'), ['movie_id'])])\n",
        " \n",
        "# Create a pipeline with the preprocessor\n",
        "preprocessing_pipeline = Pipeline(steps=[('preprocessor', preprocessor)])\n",
        "\n",
        "# Fit and transform the train set\n",
        "\n",
        "X_train = preprocessing_pipeline.fit_transform(train_df.drop('rating', axis=1))\n",
        "y_train = train_df['rating']\n",
        "\n",
        "# Transform the test set\n",
        "X_test = preprocessing_pipeline.transform(test_df.drop('rating', axis=1))\n",
        "y_test = test_df['rating']\n"
      ]
    },
    {
      "cell_type": "markdown",
      "metadata": {
        "id": "HrZkFoCu5ETd"
      },
      "source": [
        "### Model Training"
      ]
    },
    {
      "cell_type": "code",
      "execution_count": 36,
      "metadata": {
        "colab": {
          "base_uri": "https://localhost:8080/"
        },
        "id": "JpdoluKq8q4G",
        "outputId": "c1e20ef1-4d61-4ded-e1d7-13033a5f834e"
      },
      "outputs": [
        {
          "output_type": "stream",
          "name": "stdout",
          "text": [
            "Number of dimensions in train_df:  2\n"
          ]
        }
      ],
      "source": [
        "print(\"Number of dimensions in train_df: \", train_df.ndim)"
      ]
    },
    {
      "cell_type": "code",
      "execution_count": 37,
      "metadata": {
        "colab": {
          "base_uri": "https://localhost:8080/"
        },
        "id": "XsaSqqD3icq7",
        "outputId": "7c30c321-051a-452b-e467-3233b66e1837"
      },
      "outputs": [
        {
          "output_type": "stream",
          "name": "stdout",
          "text": [
            "Optimal number of latent features: 5\n",
            "Optimal RMSE: 0.985778401743232\n",
            "Test RMSE: 1.0579347324108443\n"
          ]
        }
      ],
      "source": [
        "from surprise import Dataset, Reader, accuracy\n",
        "from surprise.model_selection import GridSearchCV\n",
        "import numpy as np\n",
        "from sklearn.metrics import mean_squared_error\n",
        "\n",
        "# Define total sample size\n",
        "total_sample_size = 1000000\n",
        "\n",
        "# Initialize a list to store samples from each unique film\n",
        "film_samples = []\n",
        "\n",
        "# Calculate total number of user ratings\n",
        "total_user_ratings = train_df['rating'].count()\n",
        "\n",
        "# For each unique film, calculate the proportion of total ratings and use it to determine the sample size for that film\n",
        "for movie_id, group in train_df.groupby('movie_id'):\n",
        "    film_proportion = len(group) / total_user_ratings\n",
        "    film_sample_size = round(film_proportion * total_sample_size)\n",
        "\n",
        "    # Take a sample of the calculated size from the film's ratings\n",
        "    film_sample = group.sample(film_sample_size, random_state=my_seed)\n",
        "    film_samples.append(film_sample)\n",
        "\n",
        "# Combine all the samples into a single DataFrame\n",
        "subset_df = pd.concat(film_samples)\n",
        "\n",
        "# Convert the train set to a Surprise dataset\n",
        "data_reader = Reader(rating_scale=(1, 5))\n",
        "data = Dataset.load_from_df(subset_df[['user_id', 'movie_id', 'rating']], data_reader)\n",
        "\n",
        "# Construct the complete training set (no splitting needed here)\n",
        "complete_trainset = data.build_full_trainset()\n",
        "\n",
        "# Define the range of latent features to search\n",
        "latent_feature_range = np.arange(5, 51, 5)  # Search from 5 to 50 latent features, in increments of 5\n",
        "\n",
        "# Set the hyperparameters for grid search\n",
        "hyperparameters = {\n",
        "    'n_factors': latent_feature_range,\n",
        "    'n_epochs': [20],  # Number of training epochs\n",
        "    'lr_all': [0.005],  # Learning rate for all parameters\n",
        "    'reg_all': [0.02],  # Regularization term for all parameters\n",
        "}\n",
        "\n",
        "# Instantiate and fit the GridSearchCV object\n",
        "grid_search_cv = GridSearchCV(SVD, hyperparameters, measures=['rmse'], cv=3, n_jobs=-1)\n",
        "grid_search_cv.fit(data)\n",
        "\n",
        "# Retrieve the best parameters and the corresponding RMSE\n",
        "optimal_params = grid_search_cv.best_params['rmse']\n",
        "optimal_rmse = grid_search_cv.best_score['rmse']\n",
        "\n",
        "print(f\"Optimal number of latent features: {optimal_params['n_factors']}\")\n",
        "print(f\"Optimal RMSE: {optimal_rmse}\")\n",
        "\n",
        "# Train a model on the full training set using the best model parameters\n",
        "optimal_model = SVD(n_factors=optimal_params['n_factors'], \n",
        "                    n_epochs=optimal_params['n_epochs'], \n",
        "                    lr_all=optimal_params['lr_all'], \n",
        "                    reg_all=optimal_params['reg_all'])\n",
        "optimal_model.fit(complete_trainset)\n",
        "\n",
        "# Predict ratings for the test set and calculate RMSE\n",
        "actual_ratings = []\n",
        "predicted_ratings = []\n",
        "for index, row in test_df.iterrows():\n",
        "    rating_prediction = optimal_model.predict(row['user_id'], row['movie_id'])\n",
        "    actual_ratings.append(row['rating'])\n",
        "    predicted_ratings.append(rating_prediction.est)\n",
        "\n",
        "# Calculate the RMSE for the test set\n",
        "svd_test_rmse = np.sqrt(mean_squared_error(actual_ratings, predicted_ratings))\n",
        "print(f\"Test RMSE: {svd_test_rmse}\")"
      ]
    },
    {
      "cell_type": "markdown",
      "metadata": {
        "id": "APfr8su7ikrb"
      },
      "source": [
        "### Model Optimization"
      ]
    },
    {
      "cell_type": "code",
      "execution_count": 38,
      "metadata": {
        "colab": {
          "base_uri": "https://localhost:8080/"
        },
        "id": "Ezjcjw3KifhL",
        "outputId": "84619f88-e32a-400a-d264-3d5d36da4daf"
      },
      "outputs": [
        {
          "output_type": "stream",
          "name": "stdout",
          "text": [
            "Optimal number of latent features: 5\n",
            "Optimal learning rate: 0.005\n",
            "Optimal regularization term: 0.05\n",
            "Optimal RMSE: 0.9846562366962665\n"
          ]
        }
      ],
      "source": [
        "from surprise import Dataset, Reader, accuracy\n",
        "from surprise.model_selection import GridSearchCV\n",
        "import numpy as np\n",
        "from sklearn.metrics import mean_squared_error\n",
        "\n",
        "# Define total sample size\n",
        "total_sample_size = 1000000\n",
        "\n",
        "# Initialize a list to store samples from each unique film\n",
        "film_samples = []\n",
        "\n",
        "# Calculate total number of user ratings\n",
        "total_user_ratings = train_df['rating'].count()\n",
        "\n",
        "# For each unique film, calculate the proportion of total ratings and use it to determine the sample size for that film\n",
        "for movie_id, group in train_df.groupby('movie_id'):\n",
        "    film_proportion = len(group) / total_user_ratings\n",
        "    film_sample_size = round(film_proportion * total_sample_size)\n",
        "\n",
        "    # Take a sample of the calculated size from the film's ratings\n",
        "    film_sample = group.sample(film_sample_size, random_state=my_seed)\n",
        "    film_samples.append(film_sample)\n",
        "\n",
        "# Combine all the samples into a single DataFrame\n",
        "subset_df = pd.concat(film_samples)\n",
        "\n",
        "# Convert the train set to a Surprise dataset\n",
        "data_reader = Reader(rating_scale=(1, 5))\n",
        "data = Dataset.load_from_df(subset_df[['user_id', 'movie_id', 'rating']], data_reader)\n",
        "\n",
        "# Construct the complete training set (no splitting needed here)\n",
        "complete_trainset = data.build_full_trainset()\n",
        "\n",
        "# Define the range of latent features to search\n",
        "latent_feature_range = np.arange(5, 51, 5)  # Search from 5 to 50 latent features, in increments of 5\n",
        "\n",
        "# Define a range of learning rates to search\n",
        "learning_rate_range = [0.001, 0.005, 0.01, 0.05]\n",
        "\n",
        "# Define a range of regularization terms to search\n",
        "regularization_range = [0.01, 0.02, 0.05, 0.1]\n",
        "\n",
        "# Update the hyperparameters for grid search\n",
        "hyperparameters = {\n",
        "    'n_factors': latent_feature_range,\n",
        "    'n_epochs': [10, 20],  # Try with fewer and more training epochs\n",
        "    'lr_all': learning_rate_range,\n",
        "    'reg_all': regularization_range,\n",
        "}\n",
        "\n",
        "# Update the GridSearchCV object\n",
        "grid_search_cv = GridSearchCV(SVD, hyperparameters, measures=['rmse'], cv=3, n_jobs=-1)\n",
        "\n",
        "# Fit the GridSearchCV object to the data\n",
        "grid_search_cv.fit(data)\n",
        "\n",
        "# Get the best parameters and the corresponding RMSE\n",
        "optimal_params = grid_search_cv.best_params['rmse']\n",
        "svd_optimal_rmse = grid_search_cv.best_score['rmse']\n",
        "\n",
        "print(f\"Optimal number of latent features: {optimal_params['n_factors']}\")\n",
        "print(f\"Optimal learning rate: {optimal_params['lr_all']}\")\n",
        "print(f\"Optimal regularization term: {optimal_params['reg_all']}\")\n",
        "print(f\"Optimal RMSE: {svd_optimal_rmse}\")\n"
      ]
    },
    {
      "cell_type": "markdown",
      "metadata": {
        "id": "QhQQEVZ63aSA"
      },
      "source": [
        "# [8] Other Models \n",
        "##### Note: Models failed due to not enough System RAM to run code."
      ]
    },
    {
      "cell_type": "markdown",
      "metadata": {
        "id": "ZuW8fYf-_z5z"
      },
      "source": [
        "## Model 1: Singular Value Decomposition (Version 2)\n",
        "##### Based on architecture of model, would expect V2 to perform better than SVD done in main model."
      ]
    },
    {
      "cell_type": "code",
      "execution_count": null,
      "metadata": {
        "id": "sWzj4OM___HW"
      },
      "outputs": [],
      "source": [
        "import pandas as pd\n",
        "from surprise import Reader, Dataset, SVD\n",
        "from surprise.model_selection import train_test_split\n",
        "from surprise import accuracy\n",
        "import random\n",
        "\n",
        "# Set a random seed for reproducibility\n",
        "random_seed = 42\n",
        "random.seed(random_seed)\n",
        "np.random.seed(random_seed)\n",
        "\n",
        "# Select one random rating per movie for the test set\n",
        "test_df = df.groupby('movie_id').sample(n=1, random_state=random_seed)\n",
        "train_df = df.drop(test_df.index)\n",
        "\n",
        "# Create Surprise Dataset\n",
        "reader = Reader(rating_scale=(train_df['rating'].min(), train_df['rating'].max()))\n",
        "data = Dataset.load_from_df(train_df[['user_id', 'movie_id', 'rating']], reader)\n",
        "\n",
        "# Split the data into a trainset and a testset\n",
        "trainset = data.build_full_trainset()\n",
        "\n",
        "# Create testset\n",
        "testset = [tuple(x) for x in test_df.to_numpy()]\n",
        "\n",
        "# Train SVD model\n",
        "svd = SVD(random_state=random_seed)\n",
        "svd.fit(trainset)\n",
        "\n",
        "# Make predictions\n",
        "predictions = svd.test(testset)\n",
        "\n",
        "# Calculate RMSE\n",
        "rmse = accuracy.rmse(predictions)\n",
        "print(\"RMSE on Test: \", rmse)"
      ]
    },
    {
      "cell_type": "markdown",
      "metadata": {
        "id": "uHsdHUMDyiX_"
      },
      "source": [
        "## Model 2: Cosine-Similarity\n"
      ]
    },
    {
      "cell_type": "code",
      "execution_count": null,
      "metadata": {
        "id": "h5NpoUH5ye1M"
      },
      "outputs": [],
      "source": [
        "import pandas as pd\n",
        "import numpy as np\n",
        "from sklearn.metrics import mean_squared_error\n",
        "from sklearn.metrics.pairwise import cosine_similarity\n",
        "from scipy.sparse import csr_matrix\n",
        "\n",
        "# Set a random seed for reproducibility\n",
        "random_seed = 42\n",
        "\n",
        "# Select one random rating per movie for the test set\n",
        "test_df = df.groupby('movie_id').sample(n=1, random_state=random_seed)\n",
        "train_df = df.drop(test_df.index)\n",
        "\n",
        "# Calculate cosine similarity between users\n",
        "user_similarity = cosine_similarity(sparse_matrix)\n",
        "user_similarity = pd.DataFrame(user_similarity, index=sparse_matrix.index, columns=sparse_matrix.index)\n",
        "\n",
        "# Make predictions\n",
        "def predict(user_id, movie_id):\n",
        "    if movie_id in sparse_matrix:\n",
        "        user_ratings = sparse_matrix[movie_id]\n",
        "        user_similarities = user_similarity[user_id]\n",
        "        weighted_sum = np.dot(user_similarities.fillna(0), user_ratings.fillna(0))\n",
        "        similarity_sum = np.sum(user_similarities[user_ratings.notna()])\n",
        "        \n",
        "        if similarity_sum != 0:\n",
        "            return weighted_sum / similarity_sum\n",
        "        else:\n",
        "            return sparse_matrix.loc[user_id].mean()\n",
        "    else:\n",
        "        return sparse_matrix.loc[user_id].mean()\n",
        "\n",
        "test_df['prediction'] = test_df.apply(lambda row: predict(row['user_id'], row['movie_id']), axis=1)\n",
        "\n",
        "# Calculate RMSE\n",
        "rmse = np.sqrt(mean_squared_error(test_df['rating'], test_df['prediction']))\n",
        "print(\"RMSE on Test: \", rmse)"
      ]
    },
    {
      "cell_type": "markdown",
      "metadata": {
        "id": "nVurO44KoL88"
      },
      "source": [
        "## Model 3: Light Factorization Machines (LightFM) "
      ]
    },
    {
      "cell_type": "markdown",
      "metadata": {
        "id": "Jop3LAlrQcsO"
      },
      "source": [
        "Factorization Machines\" (FM) model, which is a type of factorization model that is specifically designed for sparse and high-dimensional data. The FM model is similar to matrix factorization techniques, but it models the interactions between user and item features, rather than just the raw user-item ratings.\n",
        "\n",
        "We implement the FM model using the \"LightFM\" library in Python. We use the \"warp-kos\" loss function, that is, a type of pairwise ranking loss that is suitable for implicit feedback data, like movie ratings. The model is trained for 10 epochs, and the number of threads is set to 4 to speed up the training."
      ]
    },
    {
      "cell_type": "code",
      "execution_count": null,
      "metadata": {
        "colab": {
          "base_uri": "https://localhost:8080/"
        },
        "id": "Tzoj-0bwSnKM",
        "outputId": "ca82ee1a-b784-4322-daf9-7879e0d496fc"
      },
      "outputs": [
        {
          "name": "stdout",
          "output_type": "stream",
          "text": [
            "Looking in indexes: https://pypi.org/simple, https://us-python.pkg.dev/colab-wheels/public/simple/\n",
            "Collecting LightFM\n",
            "  Downloading lightfm-1.17.tar.gz (316 kB)\n",
            "\u001b[2K     \u001b[90m━━━━━━━━━━━━━━━━━━━━━━━━━━━━━━━━━━━━━━━\u001b[0m \u001b[32m316.4/316.4 kB\u001b[0m \u001b[31m6.7 MB/s\u001b[0m eta \u001b[36m0:00:00\u001b[0m\n",
            "\u001b[?25h  Preparing metadata (setup.py) ... \u001b[?25l\u001b[?25hdone\n",
            "Requirement already satisfied: numpy in /usr/local/lib/python3.10/dist-packages (from LightFM) (1.22.4)\n",
            "Requirement already satisfied: scipy>=0.17.0 in /usr/local/lib/python3.10/dist-packages (from LightFM) (1.10.1)\n",
            "Requirement already satisfied: requests in /usr/local/lib/python3.10/dist-packages (from LightFM) (2.27.1)\n",
            "Requirement already satisfied: scikit-learn in /usr/local/lib/python3.10/dist-packages (from LightFM) (1.2.2)\n",
            "Requirement already satisfied: charset-normalizer~=2.0.0 in /usr/local/lib/python3.10/dist-packages (from requests->LightFM) (2.0.12)\n",
            "Requirement already satisfied: certifi>=2017.4.17 in /usr/local/lib/python3.10/dist-packages (from requests->LightFM) (2022.12.7)\n",
            "Requirement already satisfied: urllib3<1.27,>=1.21.1 in /usr/local/lib/python3.10/dist-packages (from requests->LightFM) (1.26.15)\n",
            "Requirement already satisfied: idna<4,>=2.5 in /usr/local/lib/python3.10/dist-packages (from requests->LightFM) (3.4)\n",
            "Requirement already satisfied: threadpoolctl>=2.0.0 in /usr/local/lib/python3.10/dist-packages (from scikit-learn->LightFM) (3.1.0)\n",
            "Requirement already satisfied: joblib>=1.1.1 in /usr/local/lib/python3.10/dist-packages (from scikit-learn->LightFM) (1.2.0)\n",
            "Building wheels for collected packages: LightFM\n",
            "  Building wheel for LightFM (setup.py) ... \u001b[?25l\u001b[?25hdone\n",
            "  Created wheel for LightFM: filename=lightfm-1.17-cp310-cp310-linux_x86_64.whl size=879128 sha256=5b5417dbf18c4b8340fcb4197ed1a82806d4c64bb0c214b5f0362b3743638941\n",
            "  Stored in directory: /root/.cache/pip/wheels/4f/9b/7e/0b256f2168511d8fa4dae4fae0200fdbd729eb424a912ad636\n",
            "Successfully built LightFM\n",
            "Installing collected packages: LightFM\n",
            "Successfully installed LightFM-1.17\n"
          ]
        }
      ],
      "source": [
        "pip install LightFM"
      ]
    },
    {
      "cell_type": "code",
      "execution_count": null,
      "metadata": {
        "colab": {
          "base_uri": "https://localhost:8080/"
        },
        "id": "M5qkztxDr8ks",
        "outputId": "4f1c412b-91fc-42a8-c5df-bdbabfc54291"
      },
      "outputs": [
        {
          "name": "stdout",
          "output_type": "stream",
          "text": [
            "RMSE on Test (FM):  7.207093316443152\n"
          ]
        }
      ],
      "source": [
        "import pandas as pd\n",
        "import numpy as np\n",
        "from lightfm import LightFM\n",
        "from lightfm.data import Dataset\n",
        "from sklearn.metrics import mean_squared_error\n",
        "\n",
        "# Set a random seed for reproducibility\n",
        "random_seed = 42\n",
        "np.random.seed(random_seed)\n",
        "\n",
        "# Select one random rating per item for the test set\n",
        "df['random_number'] = np.random.rand(len(df))\n",
        "df_sorted = df.sort_values(by='random_number')\n",
        "test_df = df_sorted.groupby('movie_id').first().reset_index(drop=False)\n",
        "train_df = df.drop(test_df.index)\n",
        "\n",
        "# Create LightFM Dataset\n",
        "dataset = Dataset()\n",
        "dataset.fit(df['user_id'], df['movie_id'])  # Note: fit on the whole data\n",
        "\n",
        "# Get mappings\n",
        "user_id_map, user_feature_map, item_id_map, item_feature_map = dataset.mapping()\n",
        "\n",
        "# Split the data into a trainset and a testset\n",
        "test_item_ids = test_df['movie_id']\n",
        "test_user_ids = test_df['user_id']\n",
        "test_ratings = test_df['rating']\n",
        "(interactions_matrix, weights_matrix) = dataset.build_interactions([(x['user_id'], x['movie_id'], x['rating']) for idx, x in train_df.iterrows()])\n",
        "\n",
        "# Split the test set into individual ratings\n",
        "testset = list(zip(test_user_ids, test_item_ids, test_ratings))\n",
        "\n",
        "# Train FM model\n",
        "fm = LightFM(loss='warp-kos', random_state=random_seed)\n",
        "fm.fit(interactions_matrix, epochs=10, num_threads=4)  # Here we provide only the interactions matrix\n",
        "\n",
        "# Make predictions\n",
        "predictions = []\n",
        "for uid, iid, _ in testset:\n",
        "    user_id = user_id_map[uid]\n",
        "    item_id = item_id_map[iid]\n",
        "    prediction = fm.predict(user_id, np.array([item_id]))\n",
        "    predictions.append(prediction[0])  # we want the value, not an array\n",
        "\n",
        "# Flatten the test_ratings to match predictions' shape\n",
        "test_ratings = np.array(test_ratings).flatten()\n",
        "\n",
        "# Flatten predictions\n",
        "predictions = np.array(predictions).flatten()\n",
        "\n",
        "# Calculate RMSE\n",
        "rmse_lightFM = np.sqrt(mean_squared_error(test_ratings, predictions))\n",
        "print(\"RMSE on Test (FM): \", rmse_lightFM)"
      ]
    },
    {
      "cell_type": "markdown",
      "metadata": {
        "id": "DqB_Q2dfeIYo"
      },
      "source": [
        "## Model 4: LightGBM with GridSearchCV"
      ]
    },
    {
      "cell_type": "code",
      "execution_count": null,
      "metadata": {
        "id": "juh5M_gneOhP"
      },
      "outputs": [],
      "source": [
        "import lightgbm as lgb\n",
        "from sklearn.metrics import mean_squared_error\n",
        "from sklearn.model_selection import GridSearchCV\n",
        "from sklearn.model_selection import train_test_split\n",
        "import numpy as np\n",
        "\n",
        "# Set a random seed for reproducibility\n",
        "random_seed = 42\n",
        "\n",
        "# Select one random rating per movie for the test set\n",
        "test_df = df.groupby('Movie_Id').apply(lambda x: x.sample(n=1, random_state=random_seed)).reset_index(drop=True)\n",
        "train_df = df.drop(test_df.index)\n",
        "\n",
        "# Define the LightGBM dataset\n",
        "train_data = lgb.Dataset(train_df.drop(columns=['Rating']), label=train_df['Rating'])\n",
        "test_data = lgb.Dataset(test_df.drop(columns=['Rating']), label=test_df['Rating'])\n",
        "\n",
        "# Define the LightGBM parameters\n",
        "params = {\n",
        "    'boosting_type': ['gbdt', 'dart'],\n",
        "    'objective': ['regression'],\n",
        "    'num_leaves': [15, 31, 63],\n",
        "    'learning_rate': [0.05, 0.1],\n",
        "    'feature_fraction': [0.9],\n",
        "    'bagging_fraction': [0.8, 0.9],\n",
        "    'bagging_freq': [5, 10]\n",
        "}\n",
        "\n",
        "# Define the GridSearchCV parameters\n",
        "grid_search_params = {\n",
        "    'n_jobs': [-1],\n",
        "    'verbose': [1],\n",
        "    'scoring': ['neg_root_mean_squared_error'],\n",
        "    'cv': [5],\n",
        "    'refit': ['neg_root_mean_squared_error']\n",
        "}\n",
        "\n",
        "# Train the model using GridSearchCV\n",
        "grid_search = GridSearchCV(estimator=lgb.LGBMRegressor(random_state=random_seed), param_grid=params, **grid_search_params)\n",
        "grid_search.fit(train_df.drop(columns=['Rating']), train_df['Rating'])\n",
        "\n",
        "# Make predictions on the test set using the best estimator from GridSearchCV\n",
        "best_estimator = grid_search.best_estimator_\n",
        "y_pred = best_estimator.predict(test_df.drop(columns=['Rating']))\n",
        "\n",
        "# Calculate the RMSE\n",
        "rmse = np.sqrt(mean_squared_error(test_df['Rating'], y_pred))\n",
        "print(\"RMSE on Test: \", rmse)\n"
      ]
    },
    {
      "cell_type": "markdown",
      "metadata": {
        "id": "blbs_SJHyYV3"
      },
      "source": [
        "## Model 5: Neural Collaborative Filtering (NCF) model with GridSearchCV"
      ]
    },
    {
      "cell_type": "code",
      "execution_count": null,
      "metadata": {
        "id": "bs-3vwRZysX8"
      },
      "outputs": [],
      "source": [
        "!pip install tensorflow"
      ]
    },
    {
      "cell_type": "code",
      "execution_count": null,
      "metadata": {
        "id": "G3_xky0_ydWd"
      },
      "outputs": [],
      "source": [
        "import tensorflow as tf\n",
        "from tensorflow.keras.layers import Input, Embedding, Flatten, Dense, Concatenate\n",
        "from tensorflow.keras.models import Model\n",
        "from sklearn.metrics import mean_squared_error\n",
        "from sklearn.model_selection import GridSearchCV\n",
        "from sklearn.model_selection import train_test_split\n",
        "\n",
        "# Set a random seed for reproducibility\n",
        "random_seed = 42\n",
        "\n",
        "# Split the data into training and test sets\n",
        "train_df, test_df = train_test_split(df, test_size=0.2, random_state=random_seed)\n",
        "\n",
        "# Define the input layers\n",
        "user_input = Input(shape=(1,))\n",
        "item_input = Input(shape=(1,))\n",
        "\n",
        "# Define the embedding layers\n",
        "user_emb = Flatten()(Embedding(num_users, latent_dim)(user_input))\n",
        "item_emb = Flatten()(Embedding(num_items, latent_dim)(item_input))\n",
        "\n",
        "# Define the hidden layers\n",
        "hidden_layer_1 = Dense(64, activation='relu')(Concatenate()([user_emb, item_emb]))\n",
        "hidden_layer_2 = Dense(32, activation='relu')(hidden_layer_1)\n",
        "\n",
        "# Define the output layer\n",
        "output_layer = Dense(1)(hidden_layer_2)\n",
        "\n",
        "# Define the model\n",
        "model = Model(inputs=[user_input, item_input], outputs=output_layer)\n",
        "\n",
        "# Define the hyperparameters to be optimized\n",
        "params = {\n",
        "    'batch_size': [64, 128],\n",
        "    'epochs': [10, 20],\n",
        "    'optimizer': ['adam', 'rmsprop'],\n",
        "    'loss': ['mean_squared_error'],\n",
        "}\n",
        "\n",
        "# Define the GridSearchCV parameters\n",
        "grid_search_params = {\n",
        "    'verbose': [1],\n",
        "    'scoring': ['neg_root_mean_squared_error'],\n",
        "    'cv': [5],\n",
        "    'refit': ['neg_root_mean_squared_error']\n",
        "}\n",
        "\n",
        "# Train the model using GridSearchCV\n",
        "grid_search = GridSearchCV(estimator=model, param_grid=params, **grid_search_params)\n",
        "grid_search.fit([train_df['Cust_Id'], train_df['Movie_Id']], train_df['Rating'])\n",
        "\n",
        "# Make predictions on the test set using the best estimator from GridSearchCV\n",
        "best_estimator = grid_search.best_estimator_\n",
        "y_pred = best_estimator.predict([test_df['Cust_Id'], test_df['Movie_Id']])\n",
        "\n",
        "# Calculate the RMSE\n",
        "rmse = np.sqrt(mean_squared_error(test_df['Rating'], y_pred))\n",
        "print(\"RMSE on Test: \", rmse)"
      ]
    },
    {
      "cell_type": "markdown",
      "metadata": {
        "id": "CLlZY9-WaeSa"
      },
      "source": [
        "## Model 6: KNN with Movies "
      ]
    },
    {
      "cell_type": "code",
      "execution_count": null,
      "metadata": {
        "id": "SJ20G33JiZtE"
      },
      "outputs": [],
      "source": [
        "from surprise import KNNBasic, Dataset, Reader, accuracy\n",
        "from surprise.model_selection import train_test_split\n",
        "from surprise.model_selection import GridSearchCV\n",
        "\n",
        "# Define the format of your data file\n",
        "reader = Reader(rating_scale=(1, 5))\n",
        "\n",
        "# Load the data from the DataFrame\n",
        "data = Dataset.load_from_df(df[['user_id', 'movie_id', 'rating']], reader)\n",
        "\n",
        "# Define the parameter grid\n",
        "param_grid = {\n",
        "    'k': [10, 20, 30, 40, 50],  # number of neighbors\n",
        "    'min_k': [1, 3, 5],  # minimum number of neighbors\n",
        "    'sim_options': {\n",
        "        'name': ['msd', 'cosine', 'pearson'],  # similarity measure\n",
        "        'user_based': [False]  # item-based\n",
        "    }\n",
        "}\n",
        "\n",
        "# Use GridSearchCV to find the best hyperparameters\n",
        "gs = GridSearchCV(KNNBasic, param_grid, measures=['rmse', 'mae'], cv=5)\n",
        "gs.fit(data)\n",
        "\n",
        "# Print out the best RMSE score\n",
        "print('Best RMSE score: ', gs.best_score['rmse'])\n",
        "\n",
        "# Print out the combination of parameters that gave the best RMSE score\n",
        "print('Best parameters for RMSE: ', gs.best_params['rmse'])\n",
        "\n",
        "# Define the algorithm with the best parameters\n",
        "algo = gs.best_estimator['rmse']\n",
        "\n",
        "# Split the dataset into training and test set\n",
        "trainset, testset = train_test_split(data, test_size=.25)\n",
        "\n",
        "# Train the algorithm on the trainset\n",
        "algo.fit(trainset)\n",
        "\n",
        "# Test the trained model on the test set\n",
        "predictions = algo.test(testset)\n",
        "\n",
        "# Then predict ratings for all pairs (u, i) that are not in the training set\n",
        "test_pred = algo.test(testset)\n",
        "\n",
        "# You can then calculate the RMSE (Root Mean Square Error) as follows:\n",
        "accuracy.rmse(test_pred)"
      ]
    },
    {
      "cell_type": "markdown",
      "metadata": {
        "id": "HlG6LZY9BWoO"
      },
      "source": [
        "## Model 7: KNN on Users"
      ]
    },
    {
      "cell_type": "code",
      "execution_count": null,
      "metadata": {
        "id": "pEiZNV9iD7Ts"
      },
      "outputs": [],
      "source": [
        "import pandas as pd\n",
        "import numpy as np\n",
        "from surprise import Reader, Dataset, KNNWithMeans\n",
        "from surprise.model_selection import GridSearchCV\n",
        "import random\n",
        "\n",
        "# Set a random seed for reproducibility\n",
        "random_seed = 42\n",
        "random.seed(random_seed)\n",
        "np.random.seed(random_seed)\n",
        "\n",
        "# Select one random rating per movie for the test set\n",
        "test_df = df.groupby('movie_id').sample(n=1, random_state=random_seed)\n",
        "train_df = df.drop(test_df.index)\n",
        "\n",
        "# Create Surprise Dataset\n",
        "reader = Reader(rating_scale=(train_df['rating'].min(), train_df['rating'].max()))\n",
        "data = Dataset.load_from_df(train_df[['user_id', 'movie_id', 'rating']], reader)\n",
        "\n",
        "# Define hyperparameters to search\n",
        "param_grid = {\n",
        "    'k': [10, 20, 40, 60],\n",
        "    'sim_options': {\n",
        "        'name': ['pearson_baseline'],\n",
        "        'user_based': [True],\n",
        "        'shrinkage': [0, 50, 100]\n",
        "    }\n",
        "}\n",
        "\n",
        "# Perform grid search\n",
        "gs = GridSearchCV(KNNWithMeans, param_grid, measures=['rmse'], cv=3)\n",
        "gs.fit(data)\n",
        "\n",
        "# Print the best RMSE and the corresponding hyperparameters\n",
        "print(\"Best RMSE:\", gs.best_score['rmse'])\n",
        "print(\"Best hyperparameters:\", gs.best_params['rmse'])\n"
      ]
    },
    {
      "cell_type": "markdown",
      "metadata": {
        "id": "b2n5hk2zj08_"
      },
      "source": [
        "# [9] Evaluation of Models"
      ]
    },
    {
      "cell_type": "code",
      "source": [
        "# Suppose you have the following RMSE scores and model names\n",
        "algorithm_names = ['Global Mean Rating [Base Model]', 'User Mean Rating', 'User Median Rating', 'Movie Mean Rating', 'Movie Median Rating', 'Matrix Factorization', 'Singular Value Decomposition', 'Singular Value Decomposition w/ Grid Search']\n",
        "rmse_values = [rmse_base, rmse_user_mean, rmse_user_median, rmse_movie_mean, rmse_movie_median, mf_test_rmse, svd_test_rmse, svd_optimal_rmse]  # replace with your actual RMSE scores\n",
        "\n",
        "# Iterate over the algorithm names and RMSE values\n",
        "for algorithm, rmse in zip(algorithm_names, rmse_values):\n",
        "    print(f\"RMSE for {algorithm}: {rmse}\")"
      ],
      "metadata": {
        "colab": {
          "base_uri": "https://localhost:8080/"
        },
        "id": "9Q5C4PyAWNGe",
        "outputId": "f09694fb-7614-4b9f-9fe0-8373ad1095d5"
      },
      "execution_count": 39,
      "outputs": [
        {
          "output_type": "stream",
          "name": "stdout",
          "text": [
            "RMSE for Global Mean Rating [Base Model]: 1.2766639435883955\n",
            "RMSE for User Mean Rating: 1.1228696375413207\n",
            "RMSE for User Median Rating: 1.2064410470470572\n",
            "RMSE for Movie Mean Rating: 1.1160308239831598\n",
            "RMSE for Movie Median Rating: 1.1578860047517632\n",
            "RMSE for Matrix Factorization: 1.2724283407421781\n",
            "RMSE for Singular Value Decomposition: 1.0579347324108443\n",
            "RMSE for Singular Value Decomposition w/ Grid Search: 0.9846562366962665\n"
          ]
        }
      ]
    },
    {
      "cell_type": "code",
      "execution_count": 40,
      "metadata": {
        "id": "el53TUnZj7zG",
        "colab": {
          "base_uri": "https://localhost:8080/",
          "height": 366
        },
        "outputId": "695367ee-ced5-4345-e812-c04585eeb390"
      },
      "outputs": [
        {
          "output_type": "display_data",
          "data": {
            "text/plain": [
              "<Figure size 1000x600 with 1 Axes>"
            ],
            "image/png": "[encoded data removed]"
          },
          "metadata": {}
        }
      ],
      "source": [
        "import matplotlib.pyplot as plt\n",
        "import seaborn as sns\n",
        "import pandas as pd\n",
        "\n",
        "# Suppose you have the following RMSE scores and model names\n",
        "algorithm_names = ['Global Mean Rating [Base Model]', 'User Mean Rating', 'User Median Rating', 'Movie Mean Rating', 'Movie Median Rating', 'Matrix Factorization', 'Singular Value Decomposition', 'Singular Value Decomposition w/ Grid Search']\n",
        "rmse_values = [rmse_base, rmse_user_mean, rmse_user_median, rmse_movie_mean, rmse_movie_median, mf_test_rmse, svd_test_rmse, svd_optimal_rmse]  # replace with your actual RMSE scores\n",
        "\n",
        "# Ensure both arrays have the same length\n",
        "assert len(algorithm_names) == len(rmse_values), \"Arrays must have the same length.\"\n",
        "\n",
        "# Create a DataFrame from the model names and RMSE scores\n",
        "rmse_data = pd.DataFrame({\n",
        "    'Algorithm': algorithm_names,\n",
        "    'RMSE': rmse_values\n",
        "})\n",
        "\n",
        "# Sort the DataFrame by RMSE\n",
        "rmse_data = rmse_data.sort_values('RMSE')\n",
        "\n",
        "# Set the style of seaborn\n",
        "sns.set(style=\"whitegrid\")\n",
        "\n",
        "# Create a bar plot\n",
        "plt.figure(figsize=(10, 6))\n",
        "barplot = sns.barplot(x='RMSE', y='Algorithm', data=rmse_data, palette='Blues_d')\n",
        "\n",
        "# Add the RMSE values on the plot\n",
        "for i, v in enumerate(rmse_data['RMSE']):\n",
        "    barplot.text(v + 0.02, i + 0.1, str(round(v, 2)))\n",
        "\n",
        "plt.title('RMSE Scores of Different Algorithms')\n",
        "plt.xlabel('RMSE Score')\n",
        "plt.ylabel('Algorithm')\n",
        "plt.show()"
      ]
    },
    {
      "cell_type": "markdown",
      "metadata": {
        "id": "iNG_8op3nzAu"
      },
      "source": [
        "# [10] Extra Credit\n",
        "### To analyze the data in further detail, we examine distribution of ratings for the \"Cinema Connoisseur,\" \"Selective Appraiser, and the \"Avid User.\"\n",
        "\n",
        "\n",
        "*   Cinema Connoisseur: 95th percentile in number of ratings given\n",
        "\n",
        "*   Avid User: Between 5th percentile and 95th percentile in number of ratings given\n",
        "\n",
        "*   Selective Appraiser: 5th percentile in number of ratings given\n"
      ]
    },
    {
      "cell_type": "markdown",
      "metadata": {
        "id": "RoQIDPv_rOqL"
      },
      "source": [
        "## Distribution of ratings for the \"Cinema Connoisseur\"\n",
        "\n",
        "\n"
      ]
    },
    {
      "cell_type": "code",
      "execution_count": 62,
      "metadata": {
        "id": "BUxcvsTBoW_c",
        "colab": {
          "base_uri": "https://localhost:8080/"
        },
        "outputId": "18682e5b-5bd7-4e9d-8e31-be411a1de1e5"
      },
      "outputs": [
        {
          "output_type": "stream",
          "name": "stdout",
          "text": [
            "Threshold of ratings to be a Cinema Connoisseur is: 213.0\n",
            "Number of Cinema Connoisseurs are: 23447\n"
          ]
        }
      ],
      "source": [
        "import matplotlib.pyplot as plt\n",
        "import scipy.stats\n",
        "import numpy as np\n",
        "\n",
        "# Identify Cinema Connoisseur as people with number of ratings > 0.95 (500 people)\n",
        "num_rat = df.groupby('user_id').count()['rating']\n",
        "quantile_95 = num_rat.quantile(0.95)\n",
        "cinema_connoisseur_ind = num_rat[num_rat > quantile_95].index\n",
        "cinema_connoisseur_ratings = df[df['user_id'].isin(cinema_connoisseur_ind)]['rating']\n",
        "\n",
        "# Print info\n",
        "print('Threshold of ratings to be a Cinema Connoisseur is: {}'.format(quantile_95))\n",
        "print('Number of Cinema Connoisseurs are: {}'.format(len(cinema_connoisseur_ind)))"
      ]
    },
    {
      "cell_type": "code",
      "source": [
        "# Mean of ratings for each movie\n",
        "means = df[df['user_id'].isin(cinema_connoisseur_ind)].groupby('movie_id')['rating'].mean()\n",
        "plt.figure()\n",
        "plt.hist(means, bins=30)\n",
        "plt.grid()\n",
        "plt.title('Mean of ratings for each movie')"
      ],
      "metadata": {
        "colab": {
          "base_uri": "https://localhost:8080/",
          "height": 474
        },
        "id": "D3FQdWH0hWDu",
        "outputId": "257cc246-71f4-492b-9fd0-33a1fa3ce508"
      },
      "execution_count": 45,
      "outputs": [
        {
          "output_type": "execute_result",
          "data": {
            "text/plain": [
              "Text(0.5, 1.0, 'Mean of ratings for each movie')"
            ]
          },
          "metadata": {},
          "execution_count": 45
        },
        {
          "output_type": "display_data",
          "data": {
            "text/plain": [
              "<Figure size 640x480 with 1 Axes>"
            ],
            "image/png": "[encoded data removed]"
          },
          "metadata": {}
        }
      ]
    },
    {
      "cell_type": "code",
      "source": [
        "# Mean of ratings from each user\n",
        "means = df[df['user_id'].isin(cinema_connoisseur_ind)].groupby('user_id')['rating'].mean()\n",
        "plt.figure()\n",
        "plt.hist(means, bins=30)\n",
        "plt.grid()\n",
        "plt.title('Mean of ratings from each user')"
      ],
      "metadata": {
        "colab": {
          "base_uri": "https://localhost:8080/",
          "height": 474
        },
        "id": "m9lBgy1WhAKM",
        "outputId": "3aff0a62-b6a1-4575-ebeb-5587054a72c8"
      },
      "execution_count": 46,
      "outputs": [
        {
          "output_type": "execute_result",
          "data": {
            "text/plain": [
              "Text(0.5, 1.0, 'Mean of ratings from each user')"
            ]
          },
          "metadata": {},
          "execution_count": 46
        },
        {
          "output_type": "display_data",
          "data": {
            "text/plain": [
              "<Figure size 640x480 with 1 Axes>"
            ],
            "image/png": "[encoded data removed]"
          },
          "metadata": {}
        }
      ]
    },
    {
      "cell_type": "code",
      "source": [
        "def custom_mode(x):\n",
        "    mode_result = scipy.stats.mode(x)\n",
        "    if mode_result.count[0] > 1:\n",
        "        return mode_result.mode[0]\n",
        "    else:\n",
        "        return np.nan\n",
        "\n",
        "# Mode of ratings from each user\n",
        "mode = df[df['user_id'].isin(cinema_connoisseur_ind)].groupby('user_id')['rating'].agg(custom_mode)\n",
        "plt.figure()\n",
        "plt.hist(mode.dropna(), bins=5, density=True)\n",
        "plt.xticks([1,2,3,4,5])\n",
        "plt.grid()\n",
        "plt.title('Mode of ratings from each user')"
      ],
      "metadata": {
        "colab": {
          "base_uri": "https://localhost:8080/",
          "height": 529
        },
        "id": "Pw2SEz3AhKjN",
        "outputId": "cebcb672-dea4-4ea6-a3b5-165b137c5d06"
      },
      "execution_count": 47,
      "outputs": [
        {
          "output_type": "stream",
          "name": "stderr",
          "text": [
            "<ipython-input-47-bbb7da3e5fe1>:2: FutureWarning: Unlike other reduction functions (e.g. `skew`, `kurtosis`), the default behavior of `mode` typically preserves the axis it acts along. In SciPy 1.11.0, this behavior will change: the default value of `keepdims` will become False, the `axis` over which the statistic is taken will be eliminated, and the value None will no longer be accepted. Set `keepdims` to True or False to avoid this warning.\n",
            "  mode_result = scipy.stats.mode(x)\n"
          ]
        },
        {
          "output_type": "execute_result",
          "data": {
            "text/plain": [
              "Text(0.5, 1.0, 'Mode of ratings from each user')"
            ]
          },
          "metadata": {},
          "execution_count": 47
        },
        {
          "output_type": "display_data",
          "data": {
            "text/plain": [
              "<Figure size 640x480 with 1 Axes>"
            ],
            "image/png": "[encoded data removed]"
          },
          "metadata": {}
        }
      ]
    },
    {
      "cell_type": "code",
      "source": [
        "# Total ratings\n",
        "print('Total ratings are: {}'.format(cinema_connoisseur_ratings.count()))"
      ],
      "metadata": {
        "colab": {
          "base_uri": "https://localhost:8080/"
        },
        "id": "YEtBrs_ThLJV",
        "outputId": "24c7b095-d117-4e4d-88aa-1a3771d3c0e3"
      },
      "execution_count": 48,
      "outputs": [
        {
          "output_type": "stream",
          "name": "stdout",
          "text": [
            "Total ratings are: 7618408\n"
          ]
        }
      ]
    },
    {
      "cell_type": "code",
      "source": [
        "# Distribution of ratings\n",
        "plt.figure()\n",
        "plt.hist(cinema_connoisseur_ratings, bins=5, density=True)\n",
        "plt.xticks([1,2,3,4,5])\n",
        "plt.grid()\n",
        "plt.title('Distribution of ratings')"
      ],
      "metadata": {
        "colab": {
          "base_uri": "https://localhost:8080/",
          "height": 474
        },
        "id": "9_C8o-NqhQlu",
        "outputId": "84a97d4f-db4f-4237-e674-03e33ecd2fce"
      },
      "execution_count": 49,
      "outputs": [
        {
          "output_type": "execute_result",
          "data": {
            "text/plain": [
              "Text(0.5, 1.0, 'Distribution of ratings')"
            ]
          },
          "metadata": {},
          "execution_count": 49
        },
        {
          "output_type": "display_data",
          "data": {
            "text/plain": [
              "<Figure size 640x480 with 1 Axes>"
            ],
            "image/png": "[encoded data removed]"
          },
          "metadata": {}
        }
      ]
    },
    {
      "cell_type": "markdown",
      "metadata": {
        "id": "e-w60yWssPmL"
      },
      "source": [
        "## Distribution of ratings for the \"Avid User\""
      ]
    },
    {
      "cell_type": "code",
      "execution_count": 63,
      "metadata": {
        "id": "drifn9zFw0-L",
        "colab": {
          "base_uri": "https://localhost:8080/"
        },
        "outputId": "23d9fde3-1a39-42ab-b15f-b1964ea141cd"
      },
      "outputs": [
        {
          "output_type": "stream",
          "name": "stdout",
          "text": [
            "Threshold of ratings to be a Selective Appraiser is: 2.0\n",
            "Number of Selective Appraisers are: 12516\n"
          ]
        }
      ],
      "source": [
        "# Identify Selective Appraiser as people with number of ratings < 0.05\n",
        "quantile_05 = num_rat.quantile(0.05)\n",
        "selective_appraiser_ind = num_rat[num_rat < quantile_05].index\n",
        "selective_appraiser_ratings = df[df['user_id'].isin(selective_appraiser_ind)]['rating']\n",
        "\n",
        "# Print info\n",
        "print('Threshold of ratings to be a Selective Appraiser is: {}'.format(quantile_05))\n",
        "print('Number of Selective Appraisers are: {}'.format(len(selective_appraiser_ind)))"
      ]
    },
    {
      "cell_type": "code",
      "source": [
        "# Mean of ratings for each movie\n",
        "means = df[df['user_id'].isin(selective_appraiser_ind)].groupby('movie_id')['rating'].mean()\n",
        "plt.figure()\n",
        "plt.hist(means.dropna(), bins='auto')\n",
        "plt.grid()\n",
        "plt.title('Mean of ratings for each movie')"
      ],
      "metadata": {
        "colab": {
          "base_uri": "https://localhost:8080/",
          "height": 474
        },
        "id": "MZKYeZoyhny6",
        "outputId": "77a4a6d1-aa4f-4905-bac2-b4285e663503"
      },
      "execution_count": 52,
      "outputs": [
        {
          "output_type": "execute_result",
          "data": {
            "text/plain": [
              "Text(0.5, 1.0, 'Mean of ratings for each movie')"
            ]
          },
          "metadata": {},
          "execution_count": 52
        },
        {
          "output_type": "display_data",
          "data": {
            "text/plain": [
              "<Figure size 640x480 with 1 Axes>"
            ],
            "image/png": "[encoded data removed]"
          },
          "metadata": {}
        }
      ]
    },
    {
      "cell_type": "code",
      "source": [
        "# Mean of ratings from each user\n",
        "means = df[df['user_id'].isin(selective_appraiser_ind)].groupby('user_id')['rating'].mean()\n",
        "plt.figure()\n",
        "plt.hist(means)\n",
        "plt.grid()\n",
        "plt.title('Mean of ratings from each user')"
      ],
      "metadata": {
        "colab": {
          "base_uri": "https://localhost:8080/",
          "height": 474
        },
        "id": "MSIB2wjnhjS0",
        "outputId": "272786ac-b218-4ff9-bc7b-8285519b92b7"
      },
      "execution_count": 53,
      "outputs": [
        {
          "output_type": "execute_result",
          "data": {
            "text/plain": [
              "Text(0.5, 1.0, 'Mean of ratings from each user')"
            ]
          },
          "metadata": {},
          "execution_count": 53
        },
        {
          "output_type": "display_data",
          "data": {
            "text/plain": [
              "<Figure size 640x480 with 1 Axes>"
            ],
            "image/png": "[encoded data removed]"
          },
          "metadata": {}
        }
      ]
    },
    {
      "cell_type": "code",
      "source": [
        "# Total ratings\n",
        "print('Total ratings are: {}'.format(selective_appraiser_ratings.count()))\n",
        "\n",
        "# Distribution of ratings\n",
        "plt.figure()\n",
        "plt.hist(selective_appraiser_ratings, bins=5, density=True)\n",
        "plt.xticks([1,2,3,4,5])\n",
        "plt.grid()\n",
        "plt.title('Distribution of ratings')"
      ],
      "metadata": {
        "colab": {
          "base_uri": "https://localhost:8080/",
          "height": 492
        },
        "id": "2oFyR_bhhtgS",
        "outputId": "77fd3548-bd94-40da-da68-0e96432c8fc1"
      },
      "execution_count": 55,
      "outputs": [
        {
          "output_type": "stream",
          "name": "stdout",
          "text": [
            "Total ratings are: 12516\n"
          ]
        },
        {
          "output_type": "execute_result",
          "data": {
            "text/plain": [
              "Text(0.5, 1.0, 'Distribution of ratings')"
            ]
          },
          "metadata": {},
          "execution_count": 55
        },
        {
          "output_type": "display_data",
          "data": {
            "text/plain": [
              "<Figure size 640x480 with 1 Axes>"
            ],
            "image/png": "[encoded data removed]"
          },
          "metadata": {}
        }
      ]
    },
    {
      "cell_type": "markdown",
      "metadata": {
        "id": "IxK6twGXw1dD"
      },
      "source": [
        "## Distribution of ratings for the \"Selective Appraiser\""
      ]
    },
    {
      "cell_type": "code",
      "execution_count": 56,
      "metadata": {
        "id": "8VOuYl1Gw6iC",
        "colab": {
          "base_uri": "https://localhost:8080/"
        },
        "outputId": "2656bb24-c124-46bc-811a-077c7fd52cf9"
      },
      "outputs": [
        {
          "output_type": "stream",
          "name": "stdout",
          "text": [
            "Threshold of ratings to be an Avid User is between 2.0 and 213.0\n",
            "Number of Avid Users are: 421635\n"
          ]
        }
      ],
      "source": [
        "# Identify Avid Users\n",
        "avid_user_ind = num_rat[(num_rat < quantile_95) & (num_rat > quantile_05)].index\n",
        "avid_user_ratings = df[df['user_id'].isin(avid_user_ind)]['rating']\n",
        "\n",
        "# Print info\n",
        "print('Threshold of ratings to be an Avid User is between {} and {}'.format(quantile_05, quantile_95))\n",
        "print('Number of Avid Users are: {}'.format(len(avid_user_ind)))"
      ]
    },
    {
      "cell_type": "code",
      "source": [
        "# Mean of ratings for each movie\n",
        "means = df[df['user_id'].isin(avid_user_ind)].groupby('movie_id')['rating'].mean()\n",
        "plt.figure()\n",
        "plt.hist(means.dropna(), bins='auto')\n",
        "plt.grid()\n",
        "plt.title('Mean of ratings for each movie')"
      ],
      "metadata": {
        "colab": {
          "base_uri": "https://localhost:8080/",
          "height": 474
        },
        "id": "EmGfr0lHiFRU",
        "outputId": "dfc91907-9282-4687-8f7c-b2654a3ec1b1"
      },
      "execution_count": 57,
      "outputs": [
        {
          "output_type": "execute_result",
          "data": {
            "text/plain": [
              "Text(0.5, 1.0, 'Mean of ratings for each movie')"
            ]
          },
          "metadata": {},
          "execution_count": 57
        },
        {
          "output_type": "display_data",
          "data": {
            "text/plain": [
              "<Figure size 640x480 with 1 Axes>"
            ],
            "image/png": "[encoded data removed]"
          },
          "metadata": {}
        }
      ]
    },
    {
      "cell_type": "code",
      "source": [
        "# Mean of ratings from each user\n",
        "means = df[df['user_id'].isin(avid_user_ind)].groupby('user_id')['rating'].mean()\n",
        "plt.figure()\n",
        "plt.hist(means)\n",
        "plt.grid()\n",
        "plt.title('Mean of ratings from each user')"
      ],
      "metadata": {
        "colab": {
          "base_uri": "https://localhost:8080/",
          "height": 474
        },
        "id": "0stmSMlLiHjC",
        "outputId": "18210eb4-d6cc-4aa8-dd5b-b24c29ab9842"
      },
      "execution_count": 58,
      "outputs": [
        {
          "output_type": "execute_result",
          "data": {
            "text/plain": [
              "Text(0.5, 1.0, 'Mean of ratings from each user')"
            ]
          },
          "metadata": {},
          "execution_count": 58
        },
        {
          "output_type": "display_data",
          "data": {
            "text/plain": [
              "<Figure size 640x480 with 1 Axes>"
            ],
            "image/png": "[encoded data removed]"
          },
          "metadata": {}
        }
      ]
    },
    {
      "cell_type": "code",
      "source": [
        "# Total ratings\n",
        "print('Total ratings are: {}'.format(avid_user_ratings.count()))"
      ],
      "metadata": {
        "colab": {
          "base_uri": "https://localhost:8080/"
        },
        "id": "BQLY2_dViKNk",
        "outputId": "0e007764-f468-4b08-9b99-0803e1d5617b"
      },
      "execution_count": 59,
      "outputs": [
        {
          "output_type": "stream",
          "name": "stdout",
          "text": [
            "Total ratings are: 19300461\n"
          ]
        }
      ]
    },
    {
      "cell_type": "code",
      "source": [
        "# Distribution of ratings\n",
        "plt.figure()\n",
        "plt.hist(avid_user_ratings, bins=5, density=True)\n",
        "plt.xticks([1,2,3,4,5])\n",
        "plt.grid()\n",
        "plt.title('Distribution of ratings')"
      ],
      "metadata": {
        "colab": {
          "base_uri": "https://localhost:8080/",
          "height": 474
        },
        "id": "SXNhVsFDiN3q",
        "outputId": "3d1648c5-d1f5-4eb7-de89-c7cbdb6067b5"
      },
      "execution_count": 60,
      "outputs": [
        {
          "output_type": "execute_result",
          "data": {
            "text/plain": [
              "Text(0.5, 1.0, 'Distribution of ratings')"
            ]
          },
          "metadata": {},
          "execution_count": 60
        },
        {
          "output_type": "display_data",
          "data": {
            "text/plain": [
              "<Figure size 640x480 with 1 Axes>"
            ],
            "image/png": "[encoded data removed]"
          },
          "metadata": {}
        }
      ]
    },
    {
      "cell_type": "markdown",
      "source": [
        "## Comparative Analysis of Segment-wise and Overall Distributions"
      ],
      "metadata": {
        "id": "hQjByU8McBh-"
      }
    },
    {
      "cell_type": "code",
      "source": [
        "def compare_distributions(user_type, ratings):\n",
        "    # Print information\n",
        "    print(f'--- {user_type} ---')\n",
        "    print(f'Mean rating: {ratings.mean():.2f}')\n",
        "    print(f'Median rating: {ratings.median():.2f}')\n",
        "    print(f'Mode of ratings: {ratings.mode()[0]}')\n",
        "    print(f'Total ratings: {ratings.count()}\\n')\n",
        "\n",
        "# Compare distributions for each group\n",
        "compare_distributions('Cinema Connoisseur', cinema_connoisseur_ratings)\n",
        "compare_distributions('Selective Appraiser', selective_appraiser_ratings)\n",
        "compare_distributions('Avid User', avid_user_ratings)\n",
        "\n",
        "# Compare with all data\n",
        "all_ratings = df['rating']\n",
        "compare_distributions('All Data', all_ratings)\n",
        "\n",
        "# Comparative visualization\n",
        "plt.figure(figsize=(10, 6))\n",
        "plt.hist([cinema_connoisseur_ratings, selective_appraiser_ratings, avid_user_ratings, all_ratings], \n",
        "         bins=5, density=True, histtype='bar', label=['Cinema Connoisseur', 'Selective Appraiser', 'Avid User', 'All Data'])\n",
        "plt.xticks([1,2,3,4,5])\n",
        "plt.grid()\n",
        "plt.legend()\n",
        "plt.title('Comparative Rating Distributions')\n",
        "plt.xlabel('Ratings')\n",
        "plt.ylabel('Frequency')\n",
        "plt.show()"
      ],
      "metadata": {
        "colab": {
          "base_uri": "https://localhost:8080/",
          "height": 919
        },
        "id": "2JkBtrKpcQZE",
        "outputId": "6803870e-6991-4048-b3b8-f99980ad61a9"
      },
      "execution_count": 64,
      "outputs": [
        {
          "output_type": "stream",
          "name": "stdout",
          "text": [
            "--- Cinema Connoisseur ---\n",
            "Mean rating: 3.45\n",
            "Median rating: 3.00\n",
            "Mode of ratings: 3.0\n",
            "Total ratings: 7618408\n",
            "\n",
            "--- Selective Appraiser ---\n",
            "Mean rating: 3.68\n",
            "Median rating: 4.00\n",
            "Mode of ratings: 4.0\n",
            "Total ratings: 12516\n",
            "\n",
            "--- Avid User ---\n",
            "Mean rating: 3.65\n",
            "Median rating: 4.00\n",
            "Mode of ratings: 4.0\n",
            "Total ratings: 19300461\n",
            "\n",
            "--- All Data ---\n",
            "Mean rating: 3.59\n",
            "Median rating: 4.00\n",
            "Mode of ratings: 4.0\n",
            "Total ratings: 27010225\n",
            "\n"
          ]
        },
        {
          "output_type": "display_data",
          "data": {
            "text/plain": [
              "<Figure size 1000x600 with 1 Axes>"
            ],
            "image/png": "[encoded data removed]"
          },
          "metadata": {}
        }
      ]
    }
  ],
  "metadata": {
    "accelerator": "GPU",
    "colab": {
      "collapsed_sections": [
        "XMgYV5wvYUfj",
        "0Sk5RInnIjn7",
        "QhQQEVZ63aSA",
        "ZuW8fYf-_z5z",
        "uHsdHUMDyiX_",
        "nVurO44KoL88",
        "DqB_Q2dfeIYo",
        "blbs_SJHyYV3",
        "CLlZY9-WaeSa",
        "HlG6LZY9BWoO"
      ],
      "machine_shape": "hm",
      "provenance": [],
      "gpuType": "A100"
    },
    "gpuClass": "standard",
    "kernelspec": {
      "display_name": "Python 3",
      "name": "python3"
    },
    "language_info": {
      "name": "python"
    }
  },
  "nbformat": 4,
  "nbformat_minor": 0
}